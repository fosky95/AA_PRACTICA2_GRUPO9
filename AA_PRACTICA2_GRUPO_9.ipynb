{
  "cells": [
    {
      "cell_type": "markdown",
      "metadata": {
        "id": "view-in-github",
        "colab_type": "text"
      },
      "source": [
        "<a href=\"https://colab.research.google.com/github/fosky95/AA_PRACTICA2_GRUPO9/blob/main/AA_PRACTICA2_GRUPO_9.ipynb\" target=\"_parent\"><img src=\"https://colab.research.google.com/assets/colab-badge.svg\" alt=\"Open In Colab\"/></a>"
      ]
    },
    {
      "cell_type": "markdown",
      "metadata": {
        "id": "Y1bKxEZZCmkV"
      },
      "source": [
        "# GRUPO 9\n",
        "## Pedro García Silgo \n",
        "## Carlos Ocón Garay\n",
        "\n",
        "\n",
        "# INTRODUCCIÓN\n",
        "Se pide diseñar, configurar y entrenar modelos de redes neuronales convolucionales para analizar y clasificar imágenes de ropa en distintas categorías (tipos de ropa:camisa, vestido, etc). Estos modelos serán definidos, configurados, entrenados, evaluados y mejorados para después usarlos para realizar predicciones con otras imágenes que no ha visto nunca. Para ello se tendrá que crear un modelo en Keras aplicando de una tirada todos los pasos al conjunto de datos Fashion-MNIST, precargado en Keras. Fashion-MNIST es un conjunto de datos de las imágenes de los artículos de Zalando (www.zalando.com), una tienda de moda online alemana especializada en ventas de ropa y zapatos. El conjunto de datos contiene 70K imágenes en escala de grises en 10 categorías. Estas imágenes muestran prendas individuales de ropa en baja resolución (28 x 28 píxeles):\n",
        "\n",
        "Para empezar con el problema, se importan todas las librerías:"
      ]
    },
    {
      "cell_type": "markdown",
      "metadata": {
        "id": "dAm2kExMGKS8"
      },
      "source": [
        "# LIBRERÍAS Y FUNCIONES"
      ]
    },
    {
      "cell_type": "code",
      "execution_count": 1,
      "metadata": {
        "id": "YsKclL2AFcvl",
        "colab": {
          "base_uri": "https://localhost:8080/"
        },
        "outputId": "7af647d8-d8a2-4a2f-bf37-ba0aeefd4ad4"
      },
      "outputs": [
        {
          "output_type": "stream",
          "name": "stdout",
          "text": [
            "La versión de TensorFlw es 2.9.0\n",
            "GPU Available: [PhysicalDevice(name='/physical_device:GPU:0', device_type='GPU')]\n"
          ]
        }
      ],
      "source": [
        "# Importar las librerías principales y nos aseguramos de que la versión de TensorFlow es superior a 2.0.0\n",
        "import tensorflow as tf\n",
        "from tensorflow import keras\n",
        "print(\"La versión de TensorFlw es\", tf.keras.__version__)\n",
        "print(\"GPU Available:\", tf.config.list_physical_devices('GPU'))\n",
        "\n",
        "# También importamos la librería matliblob para \"pintar\" las prendas de ropa\n",
        "import matplotlib.pyplot as plt\n",
        "\n",
        "# Se importan las librerías necesarias para crear la arquitectura de la red.\n",
        "from keras import models\n",
        "from keras import layers\n",
        "\n",
        "# Para preparar las etiquetas:\n",
        "from keras import utils\n",
        "from keras.utils import to_categorical\n",
        "from keras.utils.np_utils import to_categorical\n",
        "\n",
        "# Importar las siguientes librería para la matriz de confusión\n",
        "from collections import Counter\n",
        "from sklearn.metrics import confusion_matrix\n",
        "import itertools\n",
        "import numpy as np\n",
        "\n",
        "# Importar funciones para mejorar la red neuronal\n",
        "from tensorflow.keras import Sequential\n",
        "from tensorflow.keras.layers import Dense\n",
        "from tensorflow.keras.layers import Flatten\n",
        "from tensorflow.keras.layers import Conv2D\n",
        "from tensorflow.keras.layers import MaxPooling2D\n",
        "from tensorflow.keras.layers import BatchNormalization\n",
        "from tensorflow.keras.layers import Dropout\n",
        "\n"
      ]
    },
    {
      "cell_type": "markdown",
      "metadata": {
        "id": "wnbwRmTFFpp1"
      },
      "source": [
        "También dejamos las funciones de predicciones y de la matriz de confusión al principio para que no molesten durante el ejercicio."
      ]
    },
    {
      "cell_type": "code",
      "execution_count": 2,
      "metadata": {
        "id": "U37GV0aPFqEd"
      },
      "outputs": [],
      "source": [
        "# Funciones de predicciones y de pintar ropa\n",
        "def plot_image(i, predictions_array, true_label, img):\n",
        "  predictions_array, true_label, img = predictions_array, true_label[i], img[i]\n",
        "  plt.grid(False)\n",
        "  plt.xticks([])\n",
        "  plt.yticks([])\n",
        "\n",
        "  plt.imshow(img, cmap=plt.cm.binary)    \n",
        "\n",
        "  predicted_label = np.argmax(predictions_array)\n",
        "  if predicted_label.all() == true_label.all():\n",
        "    color = 'blue'\n",
        "  else:\n",
        "    color = 'red'\n",
        "\n",
        "  plt.xlabel(\"{} {:2.0f}% ({})\".format(class_names[predicted_label],\n",
        "                                100*np.max(predictions_array),\n",
        "                                class_names[true_label]),\n",
        "                                color=color)\n",
        "\n",
        "def plot_value_array(i, predictions_array, true_label):\n",
        "  predictions_array, true_label = predictions_array, true_label[i]\n",
        "  plt.grid(False)\n",
        "  plt.xticks(range(10))\n",
        "  plt.yticks([])\n",
        "  thisplot = plt.bar(range(10), predictions_array, color=\"#777777\")\n",
        "  plt.ylim([0, 1])\n",
        "  predicted_label = np.argmax(predictions_array)\n",
        "\n",
        "  thisplot[predicted_label].set_color('red')\n",
        "  thisplot[true_label].set_color('blue')"
      ]
    },
    {
      "cell_type": "code",
      "execution_count": 3,
      "metadata": {
        "id": "uA2jXG1fFtX1"
      },
      "outputs": [],
      "source": [
        "# Matriz de confusion\n",
        "def plot_confusion_matrix(cm, classes,\n",
        "                          normalize=False,\n",
        "                          title='Confusion matrix',\n",
        "                          cmap=plt.cm.Blues):\n",
        "    \"\"\"\n",
        "    This function prints and plots the confusion matrix.\n",
        "    Normalization can be applied by setting `normalize=True`.\n",
        "    \"\"\"\n",
        "    plt.imshow(cm, interpolation='nearest', cmap=cmap)\n",
        "    plt.title(title)\n",
        "    plt.colorbar()\n",
        "    tick_marks = np.arange(len(classes))\n",
        "    plt.xticks(tick_marks, classes, rotation=45)\n",
        "    plt.yticks(tick_marks, classes)\n",
        "\n",
        "    if normalize:\n",
        "        cm = cm.astype('float') / cm.sum(axis=1)[:, np.newaxis]\n",
        "\n",
        "    thresh = cm.max() / 2.\n",
        "    for i, j in itertools.product(range(cm.shape[0]), range(cm.shape[1])):\n",
        "        plt.text(j, i, cm[i, j],\n",
        "                 horizontalalignment=\"center\",\n",
        "                 color=\"white\" if cm[i, j] > thresh else \"black\")\n",
        "\n",
        "    plt.tight_layout()\n",
        "    plt.ylabel('Observación')\n",
        "    plt.xlabel('Predicción')"
      ]
    },
    {
      "cell_type": "code",
      "source": [
        "# Gráfico de pérdida\n",
        "def perdidaVal(historia):\n",
        "  history_dict = historia.history\n",
        "  acc = historia.history['accuracy']\n",
        "  val_acc = historia.history['val_accuracy']\n",
        "  loss = historia.history['loss']\n",
        "  val_loss = historia.history['val_loss']\n",
        "  epochs = range(1, len(acc) + 1)\n",
        "  # \"bo\" es para \"punto azun\"\n",
        "  plt.plot(epochs, loss, 'bo', label='Pérdida de Entrenamiento')\n",
        "  # \"b\" es para \"linea continua azul\"\n",
        "  plt.plot(epochs, val_loss, 'b', label='Pérdida de Validación')\n",
        "  plt.title('Pérdida de Entrenamiento y Validación')\n",
        "  plt.xlabel('Epochs')\n",
        "  plt.ylabel('Loss')\n",
        "  plt.legend()\n",
        "  plt.show()"
      ],
      "metadata": {
        "id": "mbcOVWK_K5Ap"
      },
      "execution_count": 4,
      "outputs": []
    },
    {
      "cell_type": "code",
      "source": [
        "# Gráfico de precisión\n",
        "def precisionVal(historia):\n",
        "  history_dict = historia.history\n",
        "  acc = historia.history['accuracy']\n",
        "  val_acc = historia.history['val_accuracy']\n",
        "  loss = historia.history['loss']\n",
        "  val_loss = historia.history['val_loss']\n",
        "  plt.clf()   # Limpia la figura\n",
        "  acc_values = history_dict['accuracy']\n",
        "  val_acc_values = history_dict['val_accuracy']\n",
        "  epochs = range(1, len(acc) + 1)\n",
        "  plt.plot(epochs, acc, 'bo', label='Precisión de Entrenamiento')\n",
        "  plt.plot(epochs, val_acc, 'b', label='Precisión de Validación')\n",
        "  plt.title('Precisión de Entrenamiento y Valización')\n",
        "  plt.xlabel('Epochs')\n",
        "  plt.ylabel('Loss')\n",
        "  plt.legend()\n",
        "  plt.show()"
      ],
      "metadata": {
        "id": "mfiWqiEHLD8C"
      },
      "execution_count": 5,
      "outputs": []
    },
    {
      "cell_type": "markdown",
      "metadata": {
        "id": "YoSUIQe8GOWM"
      },
      "source": [
        "# DATOS DEL PROBLEMA"
      ]
    },
    {
      "cell_type": "markdown",
      "metadata": {
        "id": "NrO7Mz_PGS3l"
      },
      "source": [
        "Hemos comprobado que la versión es adecuada para seguir, pero no disponemos de ninguna GPU (en el momento que se realiza la importación) por lo tanto los procesos serán más tardíos.\n",
        "\n",
        "A continuación cargamos los datos de zalando."
      ]
    },
    {
      "cell_type": "code",
      "execution_count": 6,
      "metadata": {
        "id": "KExP3IWSG0Q2"
      },
      "outputs": [],
      "source": [
        "# Cargamos el conjunto de datos de Zalando\n",
        "fashion_mnist = tf.keras.datasets.fashion_mnist\n",
        "(train_images, train_labels), (test_images, test_labels) = fashion_mnist.load_data()\n",
        "(train_images0, train_labels0), (test_images0, test_labels0) = (train_images, train_labels), (test_images, test_labels)"
      ]
    },
    {
      "cell_type": "markdown",
      "metadata": {
        "id": "4leO35EYIaIk"
      },
      "source": [
        "Hemos creado una segunda variable que no alteraremos para que podamos usar matplotlib sin problemas. Podemos ver cuántas imágenes tenemos de la siguiente manera."
      ]
    },
    {
      "cell_type": "code",
      "execution_count": 7,
      "metadata": {
        "id": "3GxU8C4uIjnt",
        "colab": {
          "base_uri": "https://localhost:8080/"
        },
        "outputId": "641f0ec6-dbf9-4c72-aa2c-bbcb43d4a939"
      },
      "outputs": [
        {
          "output_type": "stream",
          "name": "stdout",
          "text": [
            "(60000, 28, 28)\n",
            "(10000, 28, 28)\n",
            "(60000,)\n"
          ]
        }
      ],
      "source": [
        "#Comprobamos forma de las imágenes \n",
        "print(train_images.shape)\n",
        "print(test_images.shape)\n",
        "print(train_labels.shape)"
      ]
    },
    {
      "cell_type": "markdown",
      "metadata": {
        "id": "BYw-SugYI6xM"
      },
      "source": [
        "Podemos ver que tenemos 60k imagenes de entrenamiento y 10k de test, ambos casos de 28x28 píxeles como hemos mencionado antes.\n",
        "\n",
        "Si tuvieramos que hacer la red a ciegas, separariamos una pequeña parte de las imágenes de entrenamiento para trastear con las funciones de perdida y la matriz de confusión para averiguar las épocas, la función de activación, número de neuronas por capa... Pero como nos lo da la práctica, no tenemos que hacer eso.\n",
        "\n",
        "Podemos ver una de las imágenes como ejemplo:"
      ]
    },
    {
      "cell_type": "code",
      "execution_count": 8,
      "metadata": {
        "id": "ij9MFDgRJE4l",
        "colab": {
          "base_uri": "https://localhost:8080/"
        },
        "outputId": "9ac29352-5120-4a4a-ea9c-dc68198c7a06"
      },
      "outputs": [
        {
          "output_type": "stream",
          "name": "stdout",
          "text": [
            "[[  0   0   0   0   1   0   0   0   0   0   0 152 192 135 134 165 209  25\n",
            "    0   0   0   0   0   0   0   0   0   0]\n",
            " [  0   0   0   0   0   0   0   0  68 178 253 230 234 243 244 231 223 254\n",
            "  207  92   0   0   0   0   0   0   0   0]\n",
            " [  0   0   0   0   0   0   0 208 239 232 219 217 218 210 207 210 212 216\n",
            "  226 234 212  31   0   1   0   0   0   0]\n",
            " [  0   0   0   0   1   0 104 234 210 214 216 219 211 224 228 225 209 214\n",
            "  214 206 223 212   0   0   0   0   0   0]\n",
            " [  0   0   0   0   0   0 205 217 216 212 216 218 212 222 217 219 210 215\n",
            "  211 208 208 230 100   0   0   0   0   0]\n",
            " [  0   0   0   0   0 198 233 213 219 211 216 217 212 227 215 220 213 214\n",
            "  209 206 209 224 225  22   0   0   0   0]\n",
            " [  0   0   0   0  63 244 223 222 212 212 216 220 213 222 214 217 209 213\n",
            "  211 208 214 226 249 173   0   0   0   0]\n",
            " [  0   0   0   0   0 175 231 231 207 214 212 212 213 223 218 216 205 209\n",
            "  208 203 224 238 210   0   0   0   0   0]\n",
            " [  0   0   0   0   0  35 236 241 209 210 211 210 210 224 217 217 206 208\n",
            "  211 196 231 255 114   0   0   0   0   0]\n",
            " [  0   0   0   0   0   0 201 254 221 206 211 211 209 224 215 221 204 210\n",
            "  210 205 239 233   0   0   0   0   0   0]\n",
            " [  0   0   0   0   2   0  46 255 226 204 206 206 203 224 214 216 201 206\n",
            "  203 207 248 122   0   0   0   0   0   0]\n",
            " [  0   0   0   0   0   0   0 225 239 203 204 209 203 225 216 213 203 212\n",
            "  200 218 225   0   0   0   0   0   0   0]\n",
            " [  0   0   0   0   0   2   0  36 220 205 201 210 206 224 218 214 208 214\n",
            "  201 224 128   0   0   0   0   0   0   0]\n",
            " [  0   0   0   0   0   0   0   0 159 216 199 210 204 224 218 212 211 215\n",
            "  205 233   0   0   0   0   0   0   0   0]\n",
            " [  0   0   0   0   0   0   1   0 133 225 197 213 201 223 222 209 216 212\n",
            "  210 227   0   0   1   0   0   0   0   0]\n",
            " [  0   0   0   0   0   0   2   0 142 222 205 215 202 222 223 206 223 209\n",
            "  211 218   0   0   1   0   0   0   0   0]\n",
            " [  0   0   0   0   0   0   2   0 140 223 205 222 201 223 222 205 233 206\n",
            "  215 201   0   0   1   0   0   0   0   0]\n",
            " [  0   0   0   0   0   0   3   0 130 222 205 215 200 226 223 220 225 205\n",
            "  215 163   0   0   0   0   0   0   0   0]\n",
            " [  0   0   0   0   0   0   8   0 174 245 225 228 224 228 226 235 233 227\n",
            "  233 181   0   1   0   0   0   0   0   0]\n",
            " [  0   0   0   0   0   0   2   0  52 136 152 182 202 195 211 218 192 172\n",
            "  156  95   0   1   0   0   0   0   0   0]\n",
            " [  0   0   0   0   0   0   0   0   0   0   0   0   0  20 206   0   0   0\n",
            "    0   0   0   0   0   0   0   0   0   0]\n",
            " [  0   0   0   0   0   0   0   1   6   9   1   2   0  81 235   0   0   1\n",
            "    1   5   0   0   0   0   0   0   0   0]\n",
            " [  0   0   0   0   0   0   0   0   0   0   0   4   0  99 177   0   0   0\n",
            "    0   0   0   0   0   0   0   0   0   0]\n",
            " [  0   0   0   0   0   0   0   0   0   0   0   2   0 117 182   0   0   0\n",
            "    0   0   0   0   0   0   0   0   0   0]\n",
            " [  0   0   0   0   0   0   0   0   0   0   0   7   0 141 174   0   0   0\n",
            "    0   0   0   0   0   0   0   0   0   0]\n",
            " [  0   0   0   0   0   0   0   0   0   0   0   5   0 152 156   0   2   0\n",
            "    0   0   0   0   0   0   0   0   0   0]\n",
            " [  0   0   0   0   0   0   0   0   0   0   0   1   0 165 144   0   0   0\n",
            "    0   0   0   0   0   0   0   0   0   0]\n",
            " [  0   0   0   0   0   0   0   0   0   0   1   0   0  83 121   0   0   0\n",
            "    0   0   0   0   0   0   0   0   0   0]]\n",
            "Prenda de ropa: 6 que equivale a una camisa\n"
          ]
        }
      ],
      "source": [
        "# Vemos la matriz de la imagen número 56 (28x28)\n",
        "print(train_images0[56])\n",
        "print('Prenda de ropa:',train_labels0[56], 'que equivale a una camisa')"
      ]
    },
    {
      "cell_type": "markdown",
      "metadata": {
        "id": "0R-YJ7WALqdD"
      },
      "source": [
        "![CamisaP2.png](data:image/png;base64,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)"
      ]
    },
    {
      "cell_type": "markdown",
      "metadata": {
        "id": "AYrvJ3ZELwGW"
      },
      "source": [
        "Tenemos que la imagen 57 (como la matriz empieza en 0, esta es la 57 aunque en la matriz es el numero 56) es una camisa. Lo sabemos porque se puede distinguir una vez ponemos la matriz en orden y comprobamos que la etiqueta número 6 indica que es una camisa."
      ]
    },
    {
      "cell_type": "code",
      "execution_count": 9,
      "metadata": {
        "id": "jKvf8_MKL7W9",
        "colab": {
          "base_uri": "https://localhost:8080/",
          "height": 265
        },
        "outputId": "8720217f-6995-456d-e38f-e0330e754b73"
      },
      "outputs": [
        {
          "output_type": "display_data",
          "data": {
            "text/plain": [
              "<Figure size 432x288 with 1 Axes>"
            ],
            "image/png": "[encoded data removed]"
          },
          "metadata": {
            "needs_background": "light"
          }
        }
      ],
      "source": [
        "#Podemos usar matplotlib para pintar la prenda y comprobamos que es una sandalia/chancla:\n",
        "imagen = train_images[56]\n",
        "plt.imshow(imagen, cmap=plt.cm.binary)\n",
        "plt.show()"
      ]
    },
    {
      "cell_type": "markdown",
      "metadata": {
        "id": "Pvdd2DD-MH_s"
      },
      "source": [
        "Esta es una imagen de la camisa con matplotlib\n",
        "\n",
        "Y a cada una de las imágenes que hemos importado tienen asignada una etiqueta que indica qué prenda de ropa es cada imagen:\n",
        "\n",
        "0.   Camiseta\n",
        "1.   Pantalón\n",
        "2.   Jersey\n",
        "3.   Vestido\n",
        "4.   Cazadora\n",
        "5.   Sandalia\n",
        "6.   Camisa\n",
        "7.   Zapatillas\n",
        "8.   Bolso\n",
        "9.   Bota"
      ]
    },
    {
      "cell_type": "markdown",
      "metadata": {
        "id": "rz1-ab7mMMds"
      },
      "source": [
        "Creamos un vector con las etiquetas en su correspondiente orden."
      ]
    },
    {
      "cell_type": "code",
      "execution_count": 10,
      "metadata": {
        "id": "zbKyllXWMKcb"
      },
      "outputs": [],
      "source": [
        "# Vector con las etiquetas\n",
        "class_names = ['Camiseta', 'Pantalón', 'Jersey', 'Vestido', 'Cazadora', 'Sandalia', 'Camisa', 'Zapatilla', 'Bolso', 'Bota']"
      ]
    },
    {
      "cell_type": "markdown",
      "metadata": {
        "id": "9Ax6BfLGNUJd"
      },
      "source": [
        "Ahora transformamos los datos para usarlos en los modelos: (en este caso, al usar Sequential, debemos hacer que las imágenes tengan la forma (60000, 28, 28, 1)"
      ]
    },
    {
      "cell_type": "code",
      "execution_count": 11,
      "metadata": {
        "id": "_NFBTtXfMX7c",
        "colab": {
          "base_uri": "https://localhost:8080/"
        },
        "outputId": "5be83aa3-4947-42b4-9139-6849ae0a90fa"
      },
      "outputs": [
        {
          "output_type": "stream",
          "name": "stdout",
          "text": [
            "(60000, 28, 28, 1)\n",
            "(10000, 28, 28, 1)\n",
            "(60000,)\n"
          ]
        }
      ],
      "source": [
        "# Preparamos los datos de las imágenes\n",
        "\n",
        "# Los tensores transformados tienen la misma cantidad de datos total que el \n",
        "# tensor inicial\n",
        "\n",
        "# Guardo las imagenes originales para hacer los plots\n",
        "train_imagesO = train_images\n",
        "test_imagesO = test_images\n",
        "# Imagenes de prueba\n",
        "\n",
        "train_images = train_images.reshape((60000, 28, 28, 1)) #aqui\n",
        "train_images = train_images.astype('float32') / 255;\n",
        "train_images, len(train_images), train_images.shape, train_images[1];\n",
        "\n",
        "# Imagenes de test\n",
        "test_images = test_images.reshape((10000, 28, 28, 1)) #aqui\n",
        "test_images = test_images.astype('float32') / 255\n",
        "\n",
        "# Comprobamos el tamaño de las imágenes\n",
        "print(train_images.shape) \n",
        "print(test_images.shape)\n",
        "print(train_labels.shape)"
      ]
    },
    {
      "cell_type": "markdown",
      "metadata": {
        "id": "zPW3GDSWOD70"
      },
      "source": [
        "Una vez tenemos todos los datos, procedemos a crear los modelos."
      ]
    },
    {
      "cell_type": "markdown",
      "metadata": {
        "id": "VF-RvrszOJQs"
      },
      "source": [
        "# APARTADO 1: Configurar y entrenar modelos. Analizar resultados."
      ]
    },
    {
      "cell_type": "markdown",
      "metadata": {
        "id": "Imja4rLOOXbE"
      },
      "source": [
        "Ahora configuramos los modelos. Se nos piden 3 casos, pero en los apartados 3 y en el 4 se pide hacer el caso 1 con alteraciones, por lo que llamaremos en esre apartado al primer modelo como modelo11 (si tuvieramos mas de 10 modelos podríamos emplear modelo1_1, pero asi agilizamos el proceso)"
      ]
    },
    {
      "cell_type": "markdown",
      "metadata": {
        "id": "vT2w2k-PPVQV"
      },
      "source": [
        "## Caso 1"
      ]
    },
    {
      "cell_type": "markdown",
      "metadata": {
        "id": "B4WiwQJsPgD8"
      },
      "source": [
        "Para el caso 1 se pide lo siguiente:\n",
        "* Para la primera capa se piden 32 filtros, con una ventana de 5x5 y la función de activación relu. Luego pondremos una segunda ventana de 2x2\n",
        "* Para la segunda capa se lo mismo que en la capa anterior pero con 64 filtros.\n",
        "* Después de aplanar, se pide usar la función de activación softmax.\n",
        "* Usamos el optimizador *sgd*, la función de pérdida *sparse_categorical_crossentropy*, con una métrica de precisión y 5 épocas"
      ]
    },
    {
      "cell_type": "code",
      "execution_count": 12,
      "metadata": {
        "id": "Z0SXR42SOVTE"
      },
      "outputs": [],
      "source": [
        "# Definimos la red\n",
        "modelo11 = Sequential()\n",
        "modelo11.add(Conv2D(32, (5,5), activation='relu', input_shape=(28, 28, 1)))\n",
        "modelo11.add(MaxPooling2D((2,2)))\n",
        "modelo11.add(Conv2D(64, (5,5), activation='relu'))\n",
        "modelo11.add(MaxPooling2D((2,2)))\n",
        "modelo11.add(Flatten())\n",
        "modelo11.add(Dense(10, activation='softmax'))"
      ]
    },
    {
      "cell_type": "code",
      "execution_count": 13,
      "metadata": {
        "id": "RPpVWw3DRcLl"
      },
      "outputs": [],
      "source": [
        "# Hacemos el paso de compilación cargando el optimizador, función de pérdida y las métricas.\n",
        "modelo11.compile(optimizer = 'sgd',\n",
        "                  loss = \"sparse_categorical_crossentropy\",\n",
        "                 metrics = ['accuracy'])"
      ]
    },
    {
      "cell_type": "code",
      "execution_count": 14,
      "metadata": {
        "id": "wmBm2hofR9FB",
        "colab": {
          "base_uri": "https://localhost:8080/"
        },
        "outputId": "c64cc95e-5caa-427b-bb91-6d6bc36cd525"
      },
      "outputs": [
        {
          "output_type": "stream",
          "name": "stdout",
          "text": [
            "Epoch 1/5\n",
            "600/600 [==============================] - 8s 6ms/step - loss: 1.2254 - accuracy: 0.6003\n",
            "Epoch 2/5\n",
            "600/600 [==============================] - 3s 5ms/step - loss: 0.6732 - accuracy: 0.7530\n",
            "Epoch 3/5\n",
            "600/600 [==============================] - 3s 5ms/step - loss: 0.5916 - accuracy: 0.7837\n",
            "Epoch 4/5\n",
            "600/600 [==============================] - 2s 3ms/step - loss: 0.5433 - accuracy: 0.8025\n",
            "Epoch 5/5\n",
            "600/600 [==============================] - 2s 3ms/step - loss: 0.5081 - accuracy: 0.8175\n"
          ]
        },
        {
          "output_type": "execute_result",
          "data": {
            "text/plain": [
              "<keras.callbacks.History at 0x7f5dca7b0290>"
            ]
          },
          "metadata": {},
          "execution_count": 14
        }
      ],
      "source": [
        "# Entrenamos el modelo\n",
        "modelo11.fit(train_images, train_labels, epochs=5, batch_size=100)"
      ]
    },
    {
      "cell_type": "markdown",
      "metadata": {
        "id": "8aFgW0rPomHa"
      },
      "source": [
        "Y realizamos las predicciones"
      ]
    },
    {
      "cell_type": "code",
      "execution_count": 15,
      "metadata": {
        "id": "FMSzjcVDooWB",
        "colab": {
          "base_uri": "https://localhost:8080/"
        },
        "outputId": "454f3720-ce2e-4f1f-b48a-c9b22d4c24b4"
      },
      "outputs": [
        {
          "output_type": "stream",
          "name": "stdout",
          "text": [
            "313/313 [==============================] - 1s 2ms/step\n"
          ]
        }
      ],
      "source": [
        "# Predicción del modelo1\n",
        "prediccion11 = modelo11.predict(test_images)"
      ]
    },
    {
      "cell_type": "markdown",
      "metadata": {
        "id": "i3QccIKtjAFW"
      },
      "source": [
        "## Caso 2"
      ]
    },
    {
      "cell_type": "markdown",
      "metadata": {
        "id": "7SGSOVgShWDP"
      },
      "source": [
        "Para el caso 2 se pide lo siguiente:\n",
        "* Para la primera capa se piden 64 filtros, con una ventana de 7x7, el padding *same* y la función de activación relu. Luego pondremos una segunda ventana de 2x2\n",
        "* Para la segunda capa se lo mismo que en la capa anterior pero con 128 filtros.\n",
        "* Después de aplanar, se piden meter otras dos capas: una con 65 neuronas y la función relu y la última con la función de activación softmax.\n",
        "* Usamos el optimizador *sgd*, la función de pérdida *sparse_categorical_crossentropy*, con una métrica de precisión y 5 épocas"
      ]
    },
    {
      "cell_type": "code",
      "execution_count": 16,
      "metadata": {
        "id": "EftDAf1EjZh6"
      },
      "outputs": [],
      "source": [
        "# Definimos la red\n",
        "modelo2 = Sequential()\n",
        "modelo2.add(Conv2D(64, (7,7), padding='same', activation='relu', input_shape=(28, 28, 1)))\n",
        "modelo2.add(MaxPooling2D((2,2)))\n",
        "modelo2.add(Conv2D(128, (3,3), padding='same', activation='relu'))\n",
        "modelo2.add(MaxPooling2D((2,2)))\n",
        "modelo2.add(Flatten())\n",
        "modelo2.add(Dense(65, activation='relu'))\n",
        "modelo2.add(Dense(10, activation='softmax'))"
      ]
    },
    {
      "cell_type": "code",
      "execution_count": 17,
      "metadata": {
        "id": "CfR73pw7kGts"
      },
      "outputs": [],
      "source": [
        "# Hacemos el paso de compilación cargando el optimizador, función de pérdida y las métricas.\n",
        "modelo2.compile(optimizer = 'sgd',\n",
        "                  loss = \"sparse_categorical_crossentropy\",\n",
        "                 metrics = ['accuracy'])"
      ]
    },
    {
      "cell_type": "code",
      "execution_count": 18,
      "metadata": {
        "id": "nrBvBEVOkKcT",
        "colab": {
          "base_uri": "https://localhost:8080/"
        },
        "outputId": "e786622f-2d59-4330-f4b3-61dd9bceb772"
      },
      "outputs": [
        {
          "output_type": "stream",
          "name": "stdout",
          "text": [
            "Epoch 1/5\n",
            "600/600 [==============================] - 4s 6ms/step - loss: 1.0983 - accuracy: 0.6154\n",
            "Epoch 2/5\n",
            "600/600 [==============================] - 4s 6ms/step - loss: 0.6582 - accuracy: 0.7592\n",
            "Epoch 3/5\n",
            "600/600 [==============================] - 4s 6ms/step - loss: 0.5863 - accuracy: 0.7872\n",
            "Epoch 4/5\n",
            "600/600 [==============================] - 4s 6ms/step - loss: 0.5349 - accuracy: 0.8059\n",
            "Epoch 5/5\n",
            "600/600 [==============================] - 4s 6ms/step - loss: 0.4983 - accuracy: 0.8193\n"
          ]
        },
        {
          "output_type": "execute_result",
          "data": {
            "text/plain": [
              "<keras.callbacks.History at 0x7f5dc819ac50>"
            ]
          },
          "metadata": {},
          "execution_count": 18
        }
      ],
      "source": [
        "# Entrenamos el modelo\n",
        "modelo2.fit(train_images, train_labels, epochs=5, batch_size=100)"
      ]
    },
    {
      "cell_type": "markdown",
      "metadata": {
        "id": "Q5LreaBgot5Q"
      },
      "source": [
        "Y hacemos las predicciones"
      ]
    },
    {
      "cell_type": "code",
      "execution_count": 19,
      "metadata": {
        "id": "PnIAUnuEovsA",
        "colab": {
          "base_uri": "https://localhost:8080/"
        },
        "outputId": "6af31ba8-259b-497d-ea83-1226445b7994"
      },
      "outputs": [
        {
          "output_type": "stream",
          "name": "stdout",
          "text": [
            "313/313 [==============================] - 1s 2ms/step\n"
          ]
        }
      ],
      "source": [
        "# Predicción del modelo2\n",
        "prediccion2 = modelo2.predict(test_images)"
      ]
    },
    {
      "cell_type": "markdown",
      "metadata": {
        "id": "DF5ljjdYkye0"
      },
      "source": [
        "## Caso 3"
      ]
    },
    {
      "cell_type": "markdown",
      "metadata": {
        "id": "3WWdEu45kzt7"
      },
      "source": [
        "Para el caso 3 se pide lo mismo que el caso 2, pero usando adam en el optimizador"
      ]
    },
    {
      "cell_type": "code",
      "execution_count": 20,
      "metadata": {
        "id": "nmbaxDoTlarM"
      },
      "outputs": [],
      "source": [
        "# Definimos la red\n",
        "modelo3 = Sequential()\n",
        "modelo3.add(Conv2D(64, (7,7), padding='same', activation='relu', input_shape=(28, 28, 1)))\n",
        "modelo3.add(MaxPooling2D((2,2)))\n",
        "modelo3.add(Conv2D(128, (3,3), padding='same', activation='relu'))\n",
        "modelo3.add(MaxPooling2D((2,2)))\n",
        "modelo3.add(Flatten())\n",
        "modelo3.add(Dense(65, activation='relu'))\n",
        "modelo3.add(Dense(10, activation='softmax'))"
      ]
    },
    {
      "cell_type": "code",
      "execution_count": 21,
      "metadata": {
        "id": "zPgSS3-VlhWs"
      },
      "outputs": [],
      "source": [
        "# Hacemos el paso de compilación cargando el optimizador, función de pérdida y las métricas.\n",
        "modelo3.compile(optimizer = 'adam',\n",
        "                  loss = \"sparse_categorical_crossentropy\",\n",
        "                 metrics = ['accuracy'])"
      ]
    },
    {
      "cell_type": "code",
      "execution_count": 22,
      "metadata": {
        "id": "MVuSsA2xljdk",
        "colab": {
          "base_uri": "https://localhost:8080/"
        },
        "outputId": "ff5b1454-9035-4ee1-da43-7e0225ff7e04"
      },
      "outputs": [
        {
          "output_type": "stream",
          "name": "stdout",
          "text": [
            "Epoch 1/5\n",
            "600/600 [==============================] - 4s 6ms/step - loss: 0.4544 - accuracy: 0.8375\n",
            "Epoch 2/5\n",
            "600/600 [==============================] - 4s 6ms/step - loss: 0.2906 - accuracy: 0.8958\n",
            "Epoch 3/5\n",
            "600/600 [==============================] - 4s 6ms/step - loss: 0.2512 - accuracy: 0.9079\n",
            "Epoch 4/5\n",
            "600/600 [==============================] - 4s 6ms/step - loss: 0.2192 - accuracy: 0.9188\n",
            "Epoch 5/5\n",
            "600/600 [==============================] - 4s 6ms/step - loss: 0.1982 - accuracy: 0.9272\n"
          ]
        },
        {
          "output_type": "execute_result",
          "data": {
            "text/plain": [
              "<keras.callbacks.History at 0x7f5dc804d310>"
            ]
          },
          "metadata": {},
          "execution_count": 22
        }
      ],
      "source": [
        "# Entrenamos el modelo\n",
        "modelo3.fit(train_images, train_labels, epochs=5, batch_size=100)"
      ]
    },
    {
      "cell_type": "markdown",
      "metadata": {
        "id": "l_msN1jcozdZ"
      },
      "source": [
        "Y hacemos las predicciones"
      ]
    },
    {
      "cell_type": "code",
      "execution_count": 23,
      "metadata": {
        "id": "C4G9RQGto1IL",
        "colab": {
          "base_uri": "https://localhost:8080/"
        },
        "outputId": "7694b97a-a1c9-42b6-c009-69d53309eaca"
      },
      "outputs": [
        {
          "output_type": "stream",
          "name": "stdout",
          "text": [
            "313/313 [==============================] - 1s 2ms/step\n"
          ]
        }
      ],
      "source": [
        "# Predicción del modelo3\n",
        "prediccion3 = modelo3.predict(test_images)"
      ]
    },
    {
      "cell_type": "markdown",
      "metadata": {
        "id": "kQUv-zESlyBp"
      },
      "source": [
        "## ANALISIS DE RESILTADOS :"
      ]
    },
    {
      "cell_type": "markdown",
      "source": [
        "Asi sin reaizar ninguna evaluación no se puede deducir nada, pero podemos predecir que estos modelos actuaran mejor que los modelos planteados en la práctica 1."
      ],
      "metadata": {
        "id": "tisJdhy4GufC"
      }
    },
    {
      "cell_type": "markdown",
      "metadata": {
        "id": "yGCxdPvcl1t5"
      },
      "source": [
        "# APARTADO 2: Explicar model.summary()."
      ]
    },
    {
      "cell_type": "markdown",
      "metadata": {
        "id": "YJ8Wyqs8mAXl"
      },
      "source": [
        "Ahora explicamos el model.summary() de los tres casos."
      ]
    },
    {
      "cell_type": "markdown",
      "metadata": {
        "id": "Afv-eQXzmzOm"
      },
      "source": [
        "Utilizamos la función summary para poder ver con mas detalle las redes creadas. Dentro de esta función podremos ver:\n",
        "\n",
        "1. Las capas del modelo.\n",
        "2. El tipo de out que obtenemos.\n",
        "3. Los parámetros de cada una de las capas.\n",
        "4. Los parámetros totales de la red."
      ]
    },
    {
      "cell_type": "code",
      "execution_count": 24,
      "metadata": {
        "id": "mTSJ4QI5mJ0I",
        "colab": {
          "base_uri": "https://localhost:8080/"
        },
        "outputId": "8d3da4ab-cc06-4a0d-c74d-77dacf13e7df"
      },
      "outputs": [
        {
          "output_type": "stream",
          "name": "stdout",
          "text": [
            "Caso 1:\n",
            "Model: \"sequential\"\n",
            "_________________________________________________________________\n",
            " Layer (type)                Output Shape              Param #   \n",
            "=================================================================\n",
            " conv2d (Conv2D)             (None, 24, 24, 32)        832       \n",
            "                                                                 \n",
            " max_pooling2d (MaxPooling2D  (None, 12, 12, 32)       0         \n",
            " )                                                               \n",
            "                                                                 \n",
            " conv2d_1 (Conv2D)           (None, 8, 8, 64)          51264     \n",
            "                                                                 \n",
            " max_pooling2d_1 (MaxPooling  (None, 4, 4, 64)         0         \n",
            " 2D)                                                             \n",
            "                                                                 \n",
            " flatten (Flatten)           (None, 1024)              0         \n",
            "                                                                 \n",
            " dense (Dense)               (None, 10)                10250     \n",
            "                                                                 \n",
            "=================================================================\n",
            "Total params: 62,346\n",
            "Trainable params: 62,346\n",
            "Non-trainable params: 0\n",
            "_________________________________________________________________\n",
            "\n",
            "--------------------------\n",
            "Caso 2:\n",
            "Model: \"sequential_1\"\n",
            "_________________________________________________________________\n",
            " Layer (type)                Output Shape              Param #   \n",
            "=================================================================\n",
            " conv2d_2 (Conv2D)           (None, 28, 28, 64)        3200      \n",
            "                                                                 \n",
            " max_pooling2d_2 (MaxPooling  (None, 14, 14, 64)       0         \n",
            " 2D)                                                             \n",
            "                                                                 \n",
            " conv2d_3 (Conv2D)           (None, 14, 14, 128)       73856     \n",
            "                                                                 \n",
            " max_pooling2d_3 (MaxPooling  (None, 7, 7, 128)        0         \n",
            " 2D)                                                             \n",
            "                                                                 \n",
            " flatten_1 (Flatten)         (None, 6272)              0         \n",
            "                                                                 \n",
            " dense_1 (Dense)             (None, 65)                407745    \n",
            "                                                                 \n",
            " dense_2 (Dense)             (None, 10)                660       \n",
            "                                                                 \n",
            "=================================================================\n",
            "Total params: 485,461\n",
            "Trainable params: 485,461\n",
            "Non-trainable params: 0\n",
            "_________________________________________________________________\n",
            "\n",
            "--------------------------\n",
            "Caso 3:\n",
            "Model: \"sequential_2\"\n",
            "_________________________________________________________________\n",
            " Layer (type)                Output Shape              Param #   \n",
            "=================================================================\n",
            " conv2d_4 (Conv2D)           (None, 28, 28, 64)        3200      \n",
            "                                                                 \n",
            " max_pooling2d_4 (MaxPooling  (None, 14, 14, 64)       0         \n",
            " 2D)                                                             \n",
            "                                                                 \n",
            " conv2d_5 (Conv2D)           (None, 14, 14, 128)       73856     \n",
            "                                                                 \n",
            " max_pooling2d_5 (MaxPooling  (None, 7, 7, 128)        0         \n",
            " 2D)                                                             \n",
            "                                                                 \n",
            " flatten_2 (Flatten)         (None, 6272)              0         \n",
            "                                                                 \n",
            " dense_3 (Dense)             (None, 65)                407745    \n",
            "                                                                 \n",
            " dense_4 (Dense)             (None, 10)                660       \n",
            "                                                                 \n",
            "=================================================================\n",
            "Total params: 485,461\n",
            "Trainable params: 485,461\n",
            "Non-trainable params: 0\n",
            "_________________________________________________________________\n",
            "\n",
            "--------------------------\n"
          ]
        }
      ],
      "source": [
        "# MODEL.SUMMARY() DE LOS CASOS\n",
        "print('Caso 1:')\n",
        "modelo11.summary()\n",
        "print('')\n",
        "print('--------------------------')\n",
        "\n",
        "print('Caso 2:')\n",
        "modelo2.summary()\n",
        "print('')\n",
        "print('--------------------------')\n",
        "\n",
        "print('Caso 3:')\n",
        "modelo3.summary()\n",
        "print('')\n",
        "print('--------------------------')"
      ]
    },
    {
      "cell_type": "markdown",
      "source": [
        "1. EL primer modelo tiene 6 capas:\n",
        " * dos capas convolucionales\n",
        " * dos MaxPooling\n",
        " * una Flatten\n",
        " * una capa Dense\n",
        "\n",
        " El segundo modelo, al igual que el tercero, tiene 7 capas:\n",
        " * dos capas Conv2D\n",
        " * dos MaxPooling\n",
        " * una Flatten\n",
        " * dos Dense\n",
        "\n",
        "2. Todos los modelos tienen un output (None, x, x, x) donde las x varían en función de la capa en la que se encuentre. Las dos primeras x describen la dimensión de la imagen y la otra el número de filtros. Pero en las últimas capas solo hay un número en el output por tener la capa Flatten, que aplana la imagen (realiza una multiplicación de la dimensión de la imagen y los filtros, es decir None x* x *x). En la última capa, tenemos 10, que son las categorías a la que puede corresponder una prenda.\n",
        "\n",
        "3. Para calcular los parámetros, se sigue el siguiente procedimiento:\n",
        "* (tamaño_ventana(nxn)* n_filtros + stride) *n_filtros_nuevos\n",
        "\n",
        "4. De esta manera obtenemos 62346 parámetros en el primer modelo y 485461 parámetros en los otros dos.\n"
      ],
      "metadata": {
        "id": "7N9PhPO5HXMR"
      }
    },
    {
      "cell_type": "markdown",
      "metadata": {
        "id": "OrQEIlzOm2hv"
      },
      "source": [
        "# APARTADO 3: Caso 1, pero con 25 épocas."
      ]
    },
    {
      "cell_type": "markdown",
      "metadata": {
        "id": "NWwb4wvEnD8t"
      },
      "source": [
        "Para este apartado simplemente se pide hacer el caso 1 pero con 25 épocas y compararlo con el original. Por lo tanto, creamos otro modelo:"
      ]
    },
    {
      "cell_type": "code",
      "execution_count": 25,
      "metadata": {
        "id": "fz58kk4bnTAI"
      },
      "outputs": [],
      "source": [
        "# Definimos la red\n",
        "modelo12 = Sequential()\n",
        "modelo12.add(Conv2D(32, (5,5), activation='relu', input_shape=(28, 28, 1)))\n",
        "modelo12.add(MaxPooling2D((2,2)))\n",
        "modelo12.add(Conv2D(64, (5,5), activation='relu'))\n",
        "modelo12.add(MaxPooling2D((2,2)))\n",
        "modelo12.add(Flatten())\n",
        "modelo12.add(Dense(10, activation='softmax'))"
      ]
    },
    {
      "cell_type": "code",
      "execution_count": 26,
      "metadata": {
        "id": "SeZlvn83nXd9"
      },
      "outputs": [],
      "source": [
        "# Hacemos el paso de compilación cargando el optimizador, función de pérdida y las métricas.\n",
        "modelo12.compile(optimizer = 'sgd',\n",
        "                  loss = \"sparse_categorical_crossentropy\",\n",
        "                 metrics = ['accuracy'])"
      ]
    },
    {
      "cell_type": "code",
      "execution_count": 27,
      "metadata": {
        "id": "cZGJORrUnZ8k",
        "colab": {
          "base_uri": "https://localhost:8080/"
        },
        "outputId": "f9629c7d-1415-4f40-a979-01f97e8e09ce"
      },
      "outputs": [
        {
          "output_type": "stream",
          "name": "stdout",
          "text": [
            "Epoch 1/25\n",
            "480/480 [==============================] - 3s 4ms/step - loss: 1.2716 - accuracy: 0.5897 - val_loss: 0.7480 - val_accuracy: 0.7333\n",
            "Epoch 2/25\n",
            "480/480 [==============================] - 2s 4ms/step - loss: 0.7036 - accuracy: 0.7431 - val_loss: 0.6252 - val_accuracy: 0.7737\n",
            "Epoch 3/25\n",
            "480/480 [==============================] - 2s 4ms/step - loss: 0.6106 - accuracy: 0.7767 - val_loss: 0.5628 - val_accuracy: 0.7975\n",
            "Epoch 4/25\n",
            "480/480 [==============================] - 2s 4ms/step - loss: 0.5587 - accuracy: 0.8003 - val_loss: 0.5478 - val_accuracy: 0.8048\n",
            "Epoch 5/25\n",
            "480/480 [==============================] - 2s 4ms/step - loss: 0.5219 - accuracy: 0.8125 - val_loss: 0.5278 - val_accuracy: 0.8105\n",
            "Epoch 6/25\n",
            "480/480 [==============================] - 2s 4ms/step - loss: 0.4959 - accuracy: 0.8244 - val_loss: 0.4825 - val_accuracy: 0.8282\n",
            "Epoch 7/25\n",
            "480/480 [==============================] - 2s 4ms/step - loss: 0.4735 - accuracy: 0.8321 - val_loss: 0.4670 - val_accuracy: 0.8359\n",
            "Epoch 8/25\n",
            "480/480 [==============================] - 2s 4ms/step - loss: 0.4567 - accuracy: 0.8381 - val_loss: 0.4604 - val_accuracy: 0.8364\n",
            "Epoch 9/25\n",
            "480/480 [==============================] - 2s 4ms/step - loss: 0.4414 - accuracy: 0.8434 - val_loss: 0.4427 - val_accuracy: 0.8438\n",
            "Epoch 10/25\n",
            "480/480 [==============================] - 2s 4ms/step - loss: 0.4284 - accuracy: 0.8482 - val_loss: 0.4455 - val_accuracy: 0.8420\n",
            "Epoch 11/25\n",
            "480/480 [==============================] - 2s 4ms/step - loss: 0.4194 - accuracy: 0.8518 - val_loss: 0.4318 - val_accuracy: 0.8487\n",
            "Epoch 12/25\n",
            "480/480 [==============================] - 2s 4ms/step - loss: 0.4086 - accuracy: 0.8559 - val_loss: 0.4209 - val_accuracy: 0.8505\n",
            "Epoch 13/25\n",
            "480/480 [==============================] - 2s 4ms/step - loss: 0.4003 - accuracy: 0.8577 - val_loss: 0.4086 - val_accuracy: 0.8570\n",
            "Epoch 14/25\n",
            "480/480 [==============================] - 2s 4ms/step - loss: 0.3925 - accuracy: 0.8626 - val_loss: 0.4124 - val_accuracy: 0.8541\n",
            "Epoch 15/25\n",
            "480/480 [==============================] - 2s 4ms/step - loss: 0.3857 - accuracy: 0.8641 - val_loss: 0.3983 - val_accuracy: 0.8588\n",
            "Epoch 16/25\n",
            "480/480 [==============================] - 2s 4ms/step - loss: 0.3804 - accuracy: 0.8658 - val_loss: 0.4047 - val_accuracy: 0.8567\n",
            "Epoch 17/25\n",
            "480/480 [==============================] - 2s 4ms/step - loss: 0.3755 - accuracy: 0.8676 - val_loss: 0.3853 - val_accuracy: 0.8637\n",
            "Epoch 18/25\n",
            "480/480 [==============================] - 2s 4ms/step - loss: 0.3693 - accuracy: 0.8704 - val_loss: 0.3830 - val_accuracy: 0.8658\n",
            "Epoch 19/25\n",
            "480/480 [==============================] - 2s 4ms/step - loss: 0.3647 - accuracy: 0.8715 - val_loss: 0.3990 - val_accuracy: 0.8581\n",
            "Epoch 20/25\n",
            "480/480 [==============================] - 2s 4ms/step - loss: 0.3597 - accuracy: 0.8744 - val_loss: 0.3775 - val_accuracy: 0.8644\n",
            "Epoch 21/25\n",
            "480/480 [==============================] - 2s 4ms/step - loss: 0.3561 - accuracy: 0.8742 - val_loss: 0.3734 - val_accuracy: 0.8679\n",
            "Epoch 22/25\n",
            "480/480 [==============================] - 2s 4ms/step - loss: 0.3516 - accuracy: 0.8759 - val_loss: 0.3665 - val_accuracy: 0.8701\n",
            "Epoch 23/25\n",
            "480/480 [==============================] - 2s 4ms/step - loss: 0.3470 - accuracy: 0.8763 - val_loss: 0.3657 - val_accuracy: 0.8720\n",
            "Epoch 24/25\n",
            "480/480 [==============================] - 2s 4ms/step - loss: 0.3435 - accuracy: 0.8798 - val_loss: 0.3779 - val_accuracy: 0.8633\n",
            "Epoch 25/25\n",
            "480/480 [==============================] - 2s 4ms/step - loss: 0.3411 - accuracy: 0.8787 - val_loss: 0.3677 - val_accuracy: 0.8688\n"
          ]
        }
      ],
      "source": [
        "# Entrenamos el modelo\n",
        "historia12 = modelo12.fit(train_images, train_labels, epochs=25, batch_size=100, validation_split=0.2)"
      ]
    },
    {
      "cell_type": "code",
      "source": [
        "test_loss12, test_acc12 = modelo12.evaluate(test_images, test_labels)"
      ],
      "metadata": {
        "colab": {
          "base_uri": "https://localhost:8080/"
        },
        "id": "Bo32N9VjKkUp",
        "outputId": "2d6717dd-cc91-420b-c122-49054256dea1"
      },
      "execution_count": 28,
      "outputs": [
        {
          "output_type": "stream",
          "name": "stdout",
          "text": [
            "313/313 [==============================] - 1s 3ms/step - loss: 0.3806 - accuracy: 0.8634\n"
          ]
        }
      ]
    },
    {
      "cell_type": "code",
      "source": [
        "perdidaVal(historia12)"
      ],
      "metadata": {
        "colab": {
          "base_uri": "https://localhost:8080/",
          "height": 295
        },
        "id": "ZOEzfldLLTJh",
        "outputId": "4bbb86df-6179-494b-d76b-17f06dc61a6b"
      },
      "execution_count": 29,
      "outputs": [
        {
          "output_type": "display_data",
          "data": {
            "text/plain": [
              "<Figure size 432x288 with 1 Axes>"
            ],
            "image/png": "[encoded data removed]"
          },
          "metadata": {
            "needs_background": "light"
          }
        }
      ]
    },
    {
      "cell_type": "code",
      "source": [
        "precisionVal(historia12)"
      ],
      "metadata": {
        "colab": {
          "base_uri": "https://localhost:8080/",
          "height": 295
        },
        "id": "sdvdTAucQFP6",
        "outputId": "524e59fe-12c7-4294-ff6c-7ca97a2493b1"
      },
      "execution_count": 53,
      "outputs": [
        {
          "output_type": "display_data",
          "data": {
            "text/plain": [
              "<Figure size 432x288 with 1 Axes>"
            ],
            "image/png": "[encoded data removed]"
          },
          "metadata": {
            "needs_background": "light"
          }
        }
      ]
    },
    {
      "cell_type": "markdown",
      "metadata": {
        "id": "qKvQq9ARndc7"
      },
      "source": [
        "Vemos en los gráficos que, a pesar de haber iterado muchas veces, no ha sobreentrenado. Pero, a pesar de haber aumentado la precisión, lo ha hecho insignificadamente en comparación con el número de épocas de más que ha realizado. Por lo que se pierden recursos para aumentar poco la precisión. Para eso, es mejor invertir esos recursos en otra cosa.\n",
        "\n",
        "Eso sí, comparandolo con el caso 1 original (apartado 4) mejora algo."
      ]
    },
    {
      "cell_type": "markdown",
      "metadata": {
        "id": "4Fyxj66_niA9"
      },
      "source": [
        "# APARTADO 4: Caso 1 pero usando tanh."
      ]
    },
    {
      "cell_type": "markdown",
      "metadata": {
        "id": "bzQxrYp1nst0"
      },
      "source": [
        "Para este caso, usamos tangente hiperbólica en la función de activación de las capas convolucionales"
      ]
    },
    {
      "cell_type": "code",
      "execution_count": 30,
      "metadata": {
        "id": "VzH2Hli1oVOk"
      },
      "outputs": [],
      "source": [
        "# Definimos la red\n",
        "modelo13 = Sequential()\n",
        "modelo13.add(Conv2D(32, (5,5), activation='tanh', input_shape=(28, 28, 1)))\n",
        "modelo13.add(MaxPooling2D((2,2)))\n",
        "modelo13.add(Conv2D(64, (5,5), activation='tanh'))\n",
        "modelo13.add(MaxPooling2D((2,2)))\n",
        "modelo13.add(Flatten())\n",
        "modelo13.add(Dense(10, activation='softmax'))"
      ]
    },
    {
      "cell_type": "code",
      "execution_count": 31,
      "metadata": {
        "id": "XHAPFV-Fod0n"
      },
      "outputs": [],
      "source": [
        "# Hacemos el paso de compilación cargando el optimizador, función de pérdida y las métricas.\n",
        "modelo13.compile(optimizer = 'sgd',\n",
        "                  loss = \"sparse_categorical_crossentropy\",\n",
        "                 metrics = ['accuracy'])"
      ]
    },
    {
      "cell_type": "code",
      "execution_count": 32,
      "metadata": {
        "id": "kgSDhW4Cofut",
        "colab": {
          "base_uri": "https://localhost:8080/"
        },
        "outputId": "7c53a3e8-b2d0-457e-d328-923b6c9a4e4b"
      },
      "outputs": [
        {
          "output_type": "stream",
          "name": "stdout",
          "text": [
            "Epoch 1/5\n",
            "600/600 [==============================] - 3s 4ms/step - loss: 1.1470 - accuracy: 0.6448\n",
            "Epoch 2/5\n",
            "600/600 [==============================] - 2s 4ms/step - loss: 0.6672 - accuracy: 0.7561\n",
            "Epoch 3/5\n",
            "600/600 [==============================] - 2s 4ms/step - loss: 0.5847 - accuracy: 0.7855\n",
            "Epoch 4/5\n",
            "600/600 [==============================] - 3s 5ms/step - loss: 0.5366 - accuracy: 0.8058\n",
            "Epoch 5/5\n",
            "600/600 [==============================] - 3s 6ms/step - loss: 0.5034 - accuracy: 0.8182\n"
          ]
        },
        {
          "output_type": "execute_result",
          "data": {
            "text/plain": [
              "<keras.callbacks.History at 0x7f5dc8363690>"
            ]
          },
          "metadata": {},
          "execution_count": 32
        }
      ],
      "source": [
        "# Entrenamos el modelo\n",
        "modelo13.fit(train_images, train_labels, epochs=5, batch_size=100)"
      ]
    },
    {
      "cell_type": "code",
      "source": [
        "test_loss13, test_acc13 = modelo13.evaluate(test_images, test_labels)"
      ],
      "metadata": {
        "colab": {
          "base_uri": "https://localhost:8080/"
        },
        "id": "d3v7-f6WSW_D",
        "outputId": "1f8256eb-97a1-42b3-d62c-ad0444e06c62"
      },
      "execution_count": 54,
      "outputs": [
        {
          "output_type": "stream",
          "name": "stdout",
          "text": [
            "313/313 [==============================] - 1s 3ms/step - loss: 0.5095 - accuracy: 0.8166\n"
          ]
        }
      ]
    },
    {
      "cell_type": "markdown",
      "metadata": {
        "id": "7shP10Y5oist"
      },
      "source": [
        "En este caso, el resultado es muy parecido al obtenido en su original (apartado 4). Podemos deducir que ambas funciones de activación funcionan bastante bien, pero ninguna mejor que la otra (teniendo el resto de los datos intactos)."
      ]
    },
    {
      "cell_type": "markdown",
      "metadata": {
        "id": "PM17HyOHpHxi"
      },
      "source": [
        "# APARTADO 5: Evaluar los casos con los datos de prueba."
      ]
    },
    {
      "cell_type": "markdown",
      "metadata": {
        "id": "TMoPfMNlF2md"
      },
      "source": [
        "Para este apartado se pide evaluar los modelos de los 3 primeros casos"
      ]
    },
    {
      "cell_type": "markdown",
      "metadata": {
        "id": "K31rsmBOgn3v"
      },
      "source": [
        "## Evaluar Caso 1:"
      ]
    },
    {
      "cell_type": "code",
      "execution_count": 33,
      "metadata": {
        "id": "f1ZPqBIyppxe",
        "colab": {
          "base_uri": "https://localhost:8080/"
        },
        "outputId": "69654524-620f-4ca5-945d-cd3dba14e9a3"
      },
      "outputs": [
        {
          "output_type": "stream",
          "name": "stdout",
          "text": [
            "313/313 [==============================] - 2s 5ms/step - loss: 0.5087 - accuracy: 0.8183\n",
            "La precisión del test 1 es: 0.8183000087738037  y la pérdida es:  0.5086560845375061\n"
          ]
        }
      ],
      "source": [
        "test_loss11, test_acc11 = modelo11.evaluate(test_images, test_labels)\n",
        "print('La precisión del test 1 es:', test_acc11, ' y la pérdida es: ',test_loss11)"
      ]
    },
    {
      "cell_type": "markdown",
      "source": [],
      "metadata": {
        "id": "RWLD4pvjfk10"
      }
    },
    {
      "cell_type": "markdown",
      "metadata": {
        "id": "9gCZQjSbgqUf"
      },
      "source": [
        "## Evaluar Caso 2"
      ]
    },
    {
      "cell_type": "code",
      "execution_count": 34,
      "metadata": {
        "id": "MwVlk7uegsig",
        "colab": {
          "base_uri": "https://localhost:8080/"
        },
        "outputId": "de69e525-6df4-49c8-f6b5-24dbb4f03f25"
      },
      "outputs": [
        {
          "output_type": "stream",
          "name": "stdout",
          "text": [
            "313/313 [==============================] - 2s 5ms/step - loss: 0.5021 - accuracy: 0.8120\n",
            "La precisión del test 2 es: 0.8119999766349792  y la pérdida es:  0.502131462097168\n"
          ]
        }
      ],
      "source": [
        "test_loss2, test_acc2 = modelo2.evaluate(test_images, test_labels)\n",
        "print('La precisión del test 2 es:', test_acc2, ' y la pérdida es: ',test_loss2)"
      ]
    },
    {
      "cell_type": "markdown",
      "source": [],
      "metadata": {
        "id": "qX12AI-Lflbj"
      }
    },
    {
      "cell_type": "markdown",
      "metadata": {
        "id": "9QDiJWMRgxfx"
      },
      "source": [
        "## Evaluar Caso 3"
      ]
    },
    {
      "cell_type": "code",
      "execution_count": 35,
      "metadata": {
        "id": "35bTemFigzV_",
        "colab": {
          "base_uri": "https://localhost:8080/"
        },
        "outputId": "431ea462-145b-4fdc-a0b3-6f08db936eeb"
      },
      "outputs": [
        {
          "output_type": "stream",
          "name": "stdout",
          "text": [
            "313/313 [==============================] - 2s 5ms/step - loss: 0.2477 - accuracy: 0.9092\n",
            "La precisión del test 3 es: 0.9092000126838684  y la pérdida es:  0.24766528606414795\n"
          ]
        }
      ],
      "source": [
        "test_loss3, test_acc3 = modelo3.evaluate(test_images, test_labels)\n",
        "print('La precisión del test 3 es:', test_acc3, ' y la pérdida es: ',test_loss3)"
      ]
    },
    {
      "cell_type": "markdown",
      "source": [],
      "metadata": {
        "id": "fjbxbB6xfl4z"
      }
    },
    {
      "cell_type": "markdown",
      "metadata": {
        "id": "xA37WGdahppn"
      },
      "source": [
        "## Conclusión Apartado 5"
      ]
    },
    {
      "cell_type": "markdown",
      "metadata": {
        "id": "MvaOUBj3g84Q"
      },
      "source": [
        "Vemos que los casos 1 y 2 tienen una pérdida de 0,5 y una precisión del 0.8.\n",
        "\n",
        "En cambio, en el tercer modelo disminuye la pérdida y aumenta la precisión (0.25 y 0.9 respectivamente).\n",
        "\n",
        "Viendo esto, el caso 3 es mejor que los otros dos casos usándolo en este modelo con estas imágenes (aunque esto ya se veía venir con el optimizador adam)"
      ]
    },
    {
      "cell_type": "markdown",
      "metadata": {
        "id": "NanhP32Jhshg"
      },
      "source": [
        "# APARTADO 6: Predecir 6º imagen."
      ]
    },
    {
      "cell_type": "markdown",
      "metadata": {
        "id": "Deo6K8tph0kv"
      },
      "source": [
        "Para este apartado se pide predecir la sexta imagen con los tres modelos. Podemos ver qué imagen es con plot:"
      ]
    },
    {
      "cell_type": "code",
      "execution_count": 36,
      "metadata": {
        "id": "L7zXO6FYiCVP",
        "colab": {
          "base_uri": "https://localhost:8080/",
          "height": 282
        },
        "outputId": "ab33b0da-d3e3-4781-ec72-5b8782b35f1d"
      },
      "outputs": [
        {
          "output_type": "display_data",
          "data": {
            "text/plain": [
              "<Figure size 432x288 with 1 Axes>"
            ],
            "image/png": "[encoded data removed]"
          },
          "metadata": {
            "needs_background": "light"
          }
        },
        {
          "output_type": "stream",
          "name": "stdout",
          "text": [
            "Pantalón\n"
          ]
        }
      ],
      "source": [
        "# Imagen pintada con plt.\n",
        "imagenPred = test_images0[5]\n",
        "plt.imshow(imagenPred, cmap=plt.cm.binary)\n",
        "plt.show()\n",
        "print(class_names[test_labels[5]])"
      ]
    },
    {
      "cell_type": "code",
      "source": [
        "# Predicción de todos los modelos\n",
        "print('Predicción del modelo 1:', class_names[np.argmax(prediccion11[5])])\n",
        "print('Predicción del modelo 2:', class_names[np.argmax(prediccion2[5])])\n",
        "print('Predicción del modelo 3:', class_names[np.argmax(prediccion3[5])])"
      ],
      "metadata": {
        "id": "V_bRVbjlp3lI",
        "colab": {
          "base_uri": "https://localhost:8080/"
        },
        "outputId": "27e0887d-f017-4107-cca9-4929c55921e6"
      },
      "execution_count": 37,
      "outputs": [
        {
          "output_type": "stream",
          "name": "stdout",
          "text": [
            "Predicción del modelo 1: Pantalón\n",
            "Predicción del modelo 2: Pantalón\n",
            "Predicción del modelo 3: Pantalón\n"
          ]
        }
      ]
    },
    {
      "cell_type": "markdown",
      "source": [
        "Para los tres casos aciertan los modelos que la prendea es un pantalón."
      ],
      "metadata": {
        "id": "LbVDxN3o3oiL"
      }
    },
    {
      "cell_type": "markdown",
      "source": [
        "# APARTADO 7: Graficar y observar respuesta."
      ],
      "metadata": {
        "id": "u7jp5fTl4OZD"
      }
    },
    {
      "cell_type": "markdown",
      "source": [
        "Para este apartado se indica que se tienen que graficar las 14 primeras imágenes del conjunto de test para ver el comportamiento de los modelos."
      ],
      "metadata": {
        "id": "LVB4uCuQ4eE6"
      }
    },
    {
      "cell_type": "markdown",
      "source": [
        "## Caso 1:"
      ],
      "metadata": {
        "id": "gpskvyiH5a9h"
      }
    },
    {
      "cell_type": "code",
      "source": [
        "# Predicciones y pintar las 10 primeras prendas del primer modelo\n",
        "for i in range(14):\n",
        "  print(\"Predicción \", i+1, \":\")\n",
        "  plt.figure(figsize=(6,3))\n",
        "  plt.subplot(1,2,1)\n",
        "  plot_image(i, prediccion11[i], test_labels0, test_images0)\n",
        "  plt.subplot(1,2,2)\n",
        "  plot_value_array(i, prediccion11[i], test_labels0)\n",
        "  plt.show()"
      ],
      "metadata": {
        "colab": {
          "base_uri": "https://localhost:8080/",
          "height": 0
        },
        "id": "sjfaycvd5Oli",
        "outputId": "747fcdb3-e0e8-4bee-d93d-d33866e3aafc"
      },
      "execution_count": 38,
      "outputs": [
        {
          "output_type": "stream",
          "name": "stdout",
          "text": [
            "Predicción  1 :\n"
          ]
        },
        {
          "output_type": "display_data",
          "data": {
            "text/plain": [
              "<Figure size 432x216 with 2 Axes>"
            ],
            "image/png": "[encoded data removed]"
          },
          "metadata": {
            "needs_background": "light"
          }
        },
        {
          "output_type": "stream",
          "name": "stdout",
          "text": [
            "Predicción  2 :\n"
          ]
        },
        {
          "output_type": "display_data",
          "data": {
            "text/plain": [
              "<Figure size 432x216 with 2 Axes>"
            ],
            "image/png": "[encoded data removed]"
          },
          "metadata": {
            "needs_background": "light"
          }
        },
        {
          "output_type": "stream",
          "name": "stdout",
          "text": [
            "Predicción  3 :\n"
          ]
        },
        {
          "output_type": "display_data",
          "data": {
            "text/plain": [
              "<Figure size 432x216 with 2 Axes>"
            ],
            "image/png": "[encoded data removed]"
          },
          "metadata": {
            "needs_background": "light"
          }
        },
        {
          "output_type": "stream",
          "name": "stdout",
          "text": [
            "Predicción  4 :\n"
          ]
        },
        {
          "output_type": "display_data",
          "data": {
            "text/plain": [
              "<Figure size 432x216 with 2 Axes>"
            ],
            "image/png": "[encoded data removed]"
          },
          "metadata": {
            "needs_background": "light"
          }
        },
        {
          "output_type": "stream",
          "name": "stdout",
          "text": [
            "Predicción  5 :\n"
          ]
        },
        {
          "output_type": "display_data",
          "data": {
            "text/plain": [
              "<Figure size 432x216 with 2 Axes>"
            ],
            "image/png": "[encoded data removed]"
          },
          "metadata": {
            "needs_background": "light"
          }
        },
        {
          "output_type": "stream",
          "name": "stdout",
          "text": [
            "Predicción  6 :\n"
          ]
        },
        {
          "output_type": "display_data",
          "data": {
            "text/plain": [
              "<Figure size 432x216 with 2 Axes>"
            ],
            "image/png": "[encoded data removed]"
          },
          "metadata": {
            "needs_background": "light"
          }
        },
        {
          "output_type": "stream",
          "name": "stdout",
          "text": [
            "Predicción  7 :\n"
          ]
        },
        {
          "output_type": "display_data",
          "data": {
            "text/plain": [
              "<Figure size 432x216 with 2 Axes>"
            ],
            "image/png": "[encoded data removed]"
          },
          "metadata": {
            "needs_background": "light"
          }
        },
        {
          "output_type": "stream",
          "name": "stdout",
          "text": [
            "Predicción  8 :\n"
          ]
        },
        {
          "output_type": "display_data",
          "data": {
            "text/plain": [
              "<Figure size 432x216 with 2 Axes>"
            ],
            "image/png": "[encoded data removed]"
          },
          "metadata": {
            "needs_background": "light"
          }
        },
        {
          "output_type": "stream",
          "name": "stdout",
          "text": [
            "Predicción  9 :\n"
          ]
        },
        {
          "output_type": "display_data",
          "data": {
            "text/plain": [
              "<Figure size 432x216 with 2 Axes>"
            ],
            "image/png": "[encoded data removed]"
          },
          "metadata": {
            "needs_background": "light"
          }
        },
        {
          "output_type": "stream",
          "name": "stdout",
          "text": [
            "Predicción  10 :\n"
          ]
        },
        {
          "output_type": "display_data",
          "data": {
            "text/plain": [
              "<Figure size 432x216 with 2 Axes>"
            ],
            "image/png": "[encoded data removed]"
          },
          "metadata": {
            "needs_background": "light"
          }
        },
        {
          "output_type": "stream",
          "name": "stdout",
          "text": [
            "Predicción  11 :\n"
          ]
        },
        {
          "output_type": "display_data",
          "data": {
            "text/plain": [
              "<Figure size 432x216 with 2 Axes>"
            ],
            "image/png": "[encoded data removed]"
          },
          "metadata": {
            "needs_background": "light"
          }
        },
        {
          "output_type": "stream",
          "name": "stdout",
          "text": [
            "Predicción  12 :\n"
          ]
        },
        {
          "output_type": "display_data",
          "data": {
            "text/plain": [
              "<Figure size 432x216 with 2 Axes>"
            ],
            "image/png": "[encoded data removed]"
          },
          "metadata": {
            "needs_background": "light"
          }
        },
        {
          "output_type": "stream",
          "name": "stdout",
          "text": [
            "Predicción  13 :\n"
          ]
        },
        {
          "output_type": "display_data",
          "data": {
            "text/plain": [
              "<Figure size 432x216 with 2 Axes>"
            ],
            "image/png": "[encoded data removed]"
          },
          "metadata": {
            "needs_background": "light"
          }
        },
        {
          "output_type": "stream",
          "name": "stdout",
          "text": [
            "Predicción  14 :\n"
          ]
        },
        {
          "output_type": "display_data",
          "data": {
            "text/plain": [
              "<Figure size 432x216 with 2 Axes>"
            ],
            "image/png": "[encoded data removed]"
          },
          "metadata": {
            "needs_background": "light"
          }
        }
      ]
    },
    {
      "cell_type": "markdown",
      "source": [
        "## Caso 2:"
      ],
      "metadata": {
        "id": "YFY2oOWQ5e0q"
      }
    },
    {
      "cell_type": "code",
      "source": [
        "# Predicciones y pintar las 10 primeras prendas del primer modelo\n",
        "for i in range(14):\n",
        "  print(\"Predicción \", i+1, \":\")\n",
        "  plt.figure(figsize=(6,3))\n",
        "  plt.subplot(1,2,1)\n",
        "  plot_image(i, prediccion2[i], test_labels0, test_images0)\n",
        "  plt.subplot(1,2,2)\n",
        "  plot_value_array(i, prediccion2[i], test_labels0)\n",
        "  plt.show()"
      ],
      "metadata": {
        "colab": {
          "base_uri": "https://localhost:8080/",
          "height": 0
        },
        "id": "vzC3R6nw5gUL",
        "outputId": "723ba9f5-0b69-488f-ac3d-d3316d16472c"
      },
      "execution_count": 39,
      "outputs": [
        {
          "output_type": "stream",
          "name": "stdout",
          "text": [
            "Predicción  1 :\n"
          ]
        },
        {
          "output_type": "display_data",
          "data": {
            "text/plain": [
              "<Figure size 432x216 with 2 Axes>"
            ],
            "image/png": "[encoded data removed]"
          },
          "metadata": {
            "needs_background": "light"
          }
        },
        {
          "output_type": "stream",
          "name": "stdout",
          "text": [
            "Predicción  2 :\n"
          ]
        },
        {
          "output_type": "display_data",
          "data": {
            "text/plain": [
              "<Figure size 432x216 with 2 Axes>"
            ],
            "image/png": "[encoded data removed]"
          },
          "metadata": {
            "needs_background": "light"
          }
        },
        {
          "output_type": "stream",
          "name": "stdout",
          "text": [
            "Predicción  3 :\n"
          ]
        },
        {
          "output_type": "display_data",
          "data": {
            "text/plain": [
              "<Figure size 432x216 with 2 Axes>"
            ],
            "image/png": "[encoded data removed]"
          },
          "metadata": {
            "needs_background": "light"
          }
        },
        {
          "output_type": "stream",
          "name": "stdout",
          "text": [
            "Predicción  4 :\n"
          ]
        },
        {
          "output_type": "display_data",
          "data": {
            "text/plain": [
              "<Figure size 432x216 with 2 Axes>"
            ],
            "image/png": "[encoded data removed]"
          },
          "metadata": {
            "needs_background": "light"
          }
        },
        {
          "output_type": "stream",
          "name": "stdout",
          "text": [
            "Predicción  5 :\n"
          ]
        },
        {
          "output_type": "display_data",
          "data": {
            "text/plain": [
              "<Figure size 432x216 with 2 Axes>"
            ],
            "image/png": "[encoded data removed]"
          },
          "metadata": {
            "needs_background": "light"
          }
        },
        {
          "output_type": "stream",
          "name": "stdout",
          "text": [
            "Predicción  6 :\n"
          ]
        },
        {
          "output_type": "display_data",
          "data": {
            "text/plain": [
              "<Figure size 432x216 with 2 Axes>"
            ],
            "image/png": "[encoded data removed]"
          },
          "metadata": {
            "needs_background": "light"
          }
        },
        {
          "output_type": "stream",
          "name": "stdout",
          "text": [
            "Predicción  7 :\n"
          ]
        },
        {
          "output_type": "display_data",
          "data": {
            "text/plain": [
              "<Figure size 432x216 with 2 Axes>"
            ],
            "image/png": "[encoded data removed]"
          },
          "metadata": {
            "needs_background": "light"
          }
        },
        {
          "output_type": "stream",
          "name": "stdout",
          "text": [
            "Predicción  8 :\n"
          ]
        },
        {
          "output_type": "display_data",
          "data": {
            "text/plain": [
              "<Figure size 432x216 with 2 Axes>"
            ],
            "image/png": "[encoded data removed]"
          },
          "metadata": {
            "needs_background": "light"
          }
        },
        {
          "output_type": "stream",
          "name": "stdout",
          "text": [
            "Predicción  9 :\n"
          ]
        },
        {
          "output_type": "display_data",
          "data": {
            "text/plain": [
              "<Figure size 432x216 with 2 Axes>"
            ],
            "image/png": "[encoded data removed]"
          },
          "metadata": {
            "needs_background": "light"
          }
        },
        {
          "output_type": "stream",
          "name": "stdout",
          "text": [
            "Predicción  10 :\n"
          ]
        },
        {
          "output_type": "display_data",
          "data": {
            "text/plain": [
              "<Figure size 432x216 with 2 Axes>"
            ],
            "image/png": "[encoded data removed]"
          },
          "metadata": {
            "needs_background": "light"
          }
        },
        {
          "output_type": "stream",
          "name": "stdout",
          "text": [
            "Predicción  11 :\n"
          ]
        },
        {
          "output_type": "display_data",
          "data": {
            "text/plain": [
              "<Figure size 432x216 with 2 Axes>"
            ],
            "image/png": "[encoded data removed]"
          },
          "metadata": {
            "needs_background": "light"
          }
        },
        {
          "output_type": "stream",
          "name": "stdout",
          "text": [
            "Predicción  12 :\n"
          ]
        },
        {
          "output_type": "display_data",
          "data": {
            "text/plain": [
              "<Figure size 432x216 with 2 Axes>"
            ],
            "image/png": "[encoded data removed]"
          },
          "metadata": {
            "needs_background": "light"
          }
        },
        {
          "output_type": "stream",
          "name": "stdout",
          "text": [
            "Predicción  13 :\n"
          ]
        },
        {
          "output_type": "display_data",
          "data": {
            "text/plain": [
              "<Figure size 432x216 with 2 Axes>"
            ],
            "image/png": "[encoded data removed]"
          },
          "metadata": {
            "needs_background": "light"
          }
        },
        {
          "output_type": "stream",
          "name": "stdout",
          "text": [
            "Predicción  14 :\n"
          ]
        },
        {
          "output_type": "display_data",
          "data": {
            "text/plain": [
              "<Figure size 432x216 with 2 Axes>"
            ],
            "image/png": "[encoded data removed]"
          },
          "metadata": {
            "needs_background": "light"
          }
        }
      ]
    },
    {
      "cell_type": "markdown",
      "source": [
        "## Caso 3:"
      ],
      "metadata": {
        "id": "KH1Byfqg5n7j"
      }
    },
    {
      "cell_type": "code",
      "source": [
        "# Predicciones y pintar las 10 primeras prendas del primer modelo\n",
        "for i in range(14):\n",
        "  print(\"Predicción \", i+1, \":\")\n",
        "  plt.figure(figsize=(6,3))\n",
        "  plt.subplot(1,2,1)\n",
        "  plot_image(i, prediccion3[i], test_labels0, test_images0)\n",
        "  plt.subplot(1,2,2)\n",
        "  plot_value_array(i, prediccion3[i], test_labels0)\n",
        "  plt.show()"
      ],
      "metadata": {
        "colab": {
          "base_uri": "https://localhost:8080/",
          "height": 1000
        },
        "id": "0PR_mehj5ncy",
        "outputId": "1f1aa1fe-e5b6-4322-d1ab-6ce949a1f39a"
      },
      "execution_count": 40,
      "outputs": [
        {
          "output_type": "stream",
          "name": "stdout",
          "text": [
            "Predicción  1 :\n"
          ]
        },
        {
          "output_type": "display_data",
          "data": {
            "text/plain": [
              "<Figure size 432x216 with 2 Axes>"
            ],
            "image/png": "[encoded data removed]"
          },
          "metadata": {
            "needs_background": "light"
          }
        },
        {
          "output_type": "stream",
          "name": "stdout",
          "text": [
            "Predicción  2 :\n"
          ]
        },
        {
          "output_type": "display_data",
          "data": {
            "text/plain": [
              "<Figure size 432x216 with 2 Axes>"
            ],
            "image/png": "[encoded data removed]"
          },
          "metadata": {
            "needs_background": "light"
          }
        },
        {
          "output_type": "stream",
          "name": "stdout",
          "text": [
            "Predicción  3 :\n"
          ]
        },
        {
          "output_type": "display_data",
          "data": {
            "text/plain": [
              "<Figure size 432x216 with 2 Axes>"
            ],
            "image/png": "[encoded data removed]"
          },
          "metadata": {
            "needs_background": "light"
          }
        },
        {
          "output_type": "stream",
          "name": "stdout",
          "text": [
            "Predicción  4 :\n"
          ]
        },
        {
          "output_type": "display_data",
          "data": {
            "text/plain": [
              "<Figure size 432x216 with 2 Axes>"
            ],
            "image/png": "[encoded data removed]"
          },
          "metadata": {
            "needs_background": "light"
          }
        },
        {
          "output_type": "stream",
          "name": "stdout",
          "text": [
            "Predicción  5 :\n"
          ]
        },
        {
          "output_type": "display_data",
          "data": {
            "text/plain": [
              "<Figure size 432x216 with 2 Axes>"
            ],
            "image/png": "[encoded data removed]"
          },
          "metadata": {
            "needs_background": "light"
          }
        },
        {
          "output_type": "stream",
          "name": "stdout",
          "text": [
            "Predicción  6 :\n"
          ]
        },
        {
          "output_type": "display_data",
          "data": {
            "text/plain": [
              "<Figure size 432x216 with 2 Axes>"
            ],
            "image/png": "[encoded data removed]"
          },
          "metadata": {
            "needs_background": "light"
          }
        },
        {
          "output_type": "stream",
          "name": "stdout",
          "text": [
            "Predicción  7 :\n"
          ]
        },
        {
          "output_type": "display_data",
          "data": {
            "text/plain": [
              "<Figure size 432x216 with 2 Axes>"
            ],
            "image/png": "[encoded data removed]"
          },
          "metadata": {
            "needs_background": "light"
          }
        },
        {
          "output_type": "stream",
          "name": "stdout",
          "text": [
            "Predicción  8 :\n"
          ]
        },
        {
          "output_type": "display_data",
          "data": {
            "text/plain": [
              "<Figure size 432x216 with 2 Axes>"
            ],
            "image/png": "[encoded data removed]"
          },
          "metadata": {
            "needs_background": "light"
          }
        },
        {
          "output_type": "stream",
          "name": "stdout",
          "text": [
            "Predicción  9 :\n"
          ]
        },
        {
          "output_type": "display_data",
          "data": {
            "text/plain": [
              "<Figure size 432x216 with 2 Axes>"
            ],
            "image/png": "[encoded data removed]"
          },
          "metadata": {
            "needs_background": "light"
          }
        },
        {
          "output_type": "stream",
          "name": "stdout",
          "text": [
            "Predicción  10 :\n"
          ]
        },
        {
          "output_type": "display_data",
          "data": {
            "text/plain": [
              "<Figure size 432x216 with 2 Axes>"
            ],
            "image/png": "[encoded data removed]"
          },
          "metadata": {
            "needs_background": "light"
          }
        },
        {
          "output_type": "stream",
          "name": "stdout",
          "text": [
            "Predicción  11 :\n"
          ]
        },
        {
          "output_type": "display_data",
          "data": {
            "text/plain": [
              "<Figure size 432x216 with 2 Axes>"
            ],
            "image/png": "[encoded data removed]"
          },
          "metadata": {
            "needs_background": "light"
          }
        },
        {
          "output_type": "stream",
          "name": "stdout",
          "text": [
            "Predicción  12 :\n"
          ]
        },
        {
          "output_type": "display_data",
          "data": {
            "text/plain": [
              "<Figure size 432x216 with 2 Axes>"
            ],
            "image/png": "[encoded data removed]"
          },
          "metadata": {
            "needs_background": "light"
          }
        },
        {
          "output_type": "stream",
          "name": "stdout",
          "text": [
            "Predicción  13 :\n"
          ]
        },
        {
          "output_type": "display_data",
          "data": {
            "text/plain": [
              "<Figure size 432x216 with 2 Axes>"
            ],
            "image/png": "[encoded data removed]"
          },
          "metadata": {
            "needs_background": "light"
          }
        },
        {
          "output_type": "stream",
          "name": "stdout",
          "text": [
            "Predicción  14 :\n"
          ]
        },
        {
          "output_type": "display_data",
          "data": {
            "text/plain": [
              "<Figure size 432x216 with 2 Axes>"
            ],
            "image/png": "[encoded data removed]"
          },
          "metadata": {
            "needs_background": "light"
          }
        }
      ]
    },
    {
      "cell_type": "markdown",
      "source": [
        "# APARTADO 8: Comparar con la practica 1."
      ],
      "metadata": {
        "id": "mxg-yUKg65Vj"
      }
    },
    {
      "cell_type": "markdown",
      "source": [
        "Observando los casos del 1 al tres con los otros 8 casos de la práctica 1, vemos que los casos 1 y 2 de la segunda práctica tienen resultados parecidos con el resto de casos de la práctica 1. \n",
        "\n",
        "Pero el caso 3 de la práctica 2 tiene una precisión del 90%, al haber usado adam. En el caso de la práctica 1, al haber usado adam, no superaba el 85% de precisión. Podemos deducir así que los modelos con capas convolucionales dan mejores resultados utilizando el optimizador adam para aprender imágenes."
      ],
      "metadata": {
        "id": "FExMhx9lS1cE"
      }
    },
    {
      "cell_type": "markdown",
      "source": [
        "# APARTADO 9: Batch_normalization y dropout:"
      ],
      "metadata": {
        "id": "c9JZwO2aBgQt"
      }
    },
    {
      "cell_type": "markdown",
      "source": [
        "Al haber ido programando y entrenando distintas redes neuronales, se ha ido descubriendo que hay modelos que funcionan de mejor manera que otros. Una de las cosas que se ha detectado es que los modelos funcionan mejor cuando los datos estan transformados de tal manera que están a la par, como cuando se normaliza.\n",
        "\n",
        "Batch_normalization, a parte de normalizar los datos para entrenar los modelos, normaliza las salidas de los propios modelos para que se puedan localizar los patrones antes y que converja más rápido. De esta manera se obtendrán mejores resultados.\n",
        "\n",
        "En cambio, Dropout es una tecnica que consiste en bloquear algunas neuronas (elegidas aleatoriamente) de una capa en cada iteración. De esta manera, es más complicado que se de un sobreentrenamiento y logramos que aumente la generalidad de lo que se busca al realizar el modelo.\n",
        "\n",
        "Por ejemplo, podemos realizarlo en el tercer caso, que es el más óptimo de todos:"
      ],
      "metadata": {
        "id": "Iqy9JnwrBybk"
      }
    },
    {
      "cell_type": "code",
      "source": [
        "# Aquí se mete un callback, que se explica en el apartado 10\n",
        "from tensorflow.keras.callbacks import EarlyStopping\n",
        "early_stopping = EarlyStopping(patience=10, min_delta=0.001, restore_best_weights=True)\n",
        "\n",
        "partial_x_train = train_images[:50000]\n",
        "x_val = train_images[50000:]\n",
        "\n",
        "partial_y_train = train_labels[:50000]\n",
        "y_val = train_labels[50000:]\n",
        "\n",
        "modelo32 = Sequential()\n",
        "modelo32.add(Conv2D(64,(7,7), padding=\"same\", activation='relu', input_shape=(28,28,1)))\n",
        "modelo32.add(MaxPooling2D((2,2)))\n",
        "modelo32.add(Dropout(0.3))\n",
        "modelo32.add(BatchNormalization())\n",
        "modelo32.add(Conv2D(128,(3,3), padding=\"same\",activation='relu'))\n",
        "modelo32.add(MaxPooling2D((2,2)))\n",
        "modelo32.add(Dropout(0.3))\n",
        "modelo32.add(BatchNormalization())\n",
        "modelo32.add(Flatten())\n",
        "modelo32.add(Dense(65, activation='relu'))\n",
        "modelo32.add(Dropout(0.3))\n",
        "modelo32.add(BatchNormalization())\n",
        "modelo32.add(Dense(10, activation='softmax'))\n",
        "\n",
        "modelo3 = Sequential()\n",
        "modelo3.add(Conv2D(64, (7,7), padding='same', activation='relu', input_shape=(28, 28, 1)))\n",
        "modelo3.add(MaxPooling2D((2,2)))\n",
        "modelo3.add(Conv2D(128, (3,3), padding='same', activation='relu'))\n",
        "modelo3.add(MaxPooling2D((2,2)))\n",
        "modelo3.add(Flatten())\n",
        "modelo3.add(Dense(65, activation='relu'))\n",
        "modelo3.add(Dense(10, activation='softmax'))"
      ],
      "metadata": {
        "id": "TJwFXX50PXq2"
      },
      "execution_count": 45,
      "outputs": []
    },
    {
      "cell_type": "code",
      "source": [
        "# Compilación del modelo\n",
        "modelo32.compile(optimizer='adam', \n",
        "                loss='sparse_categorical_crossentropy',\n",
        "                metrics=['accuracy'])\n",
        "\n"
      ],
      "metadata": {
        "id": "8bYHEAC6SBq2"
      },
      "execution_count": 46,
      "outputs": []
    },
    {
      "cell_type": "code",
      "source": [
        "# Entrenamos el modelo\n",
        "modelo32.fit(partial_x_train, partial_y_train, validation_data=(x_val, y_val), batch_size=128, epochs=100, callbacks=[early_stopping])"
      ],
      "metadata": {
        "colab": {
          "base_uri": "https://localhost:8080/"
        },
        "id": "7sBi4_Z0Sds-",
        "outputId": "4e66c77e-94f6-4cf6-d524-e1ae26489a22"
      },
      "execution_count": 47,
      "outputs": [
        {
          "output_type": "stream",
          "name": "stdout",
          "text": [
            "Epoch 1/100\n",
            "391/391 [==============================] - 6s 14ms/step - loss: 0.5138 - accuracy: 0.8243 - val_loss: 1.6258 - val_accuracy: 0.4692\n",
            "Epoch 2/100\n",
            "391/391 [==============================] - 5s 13ms/step - loss: 0.3495 - accuracy: 0.8740 - val_loss: 0.2833 - val_accuracy: 0.8927\n",
            "Epoch 3/100\n",
            "391/391 [==============================] - 5s 13ms/step - loss: 0.3078 - accuracy: 0.8893 - val_loss: 0.2721 - val_accuracy: 0.8976\n",
            "Epoch 4/100\n",
            "391/391 [==============================] - 5s 13ms/step - loss: 0.2845 - accuracy: 0.8969 - val_loss: 0.2624 - val_accuracy: 0.9000\n",
            "Epoch 5/100\n",
            "391/391 [==============================] - 5s 13ms/step - loss: 0.2662 - accuracy: 0.9026 - val_loss: 0.2310 - val_accuracy: 0.9089\n",
            "Epoch 6/100\n",
            "391/391 [==============================] - 5s 13ms/step - loss: 0.2525 - accuracy: 0.9077 - val_loss: 0.2375 - val_accuracy: 0.9113\n",
            "Epoch 7/100\n",
            "391/391 [==============================] - 5s 13ms/step - loss: 0.2416 - accuracy: 0.9100 - val_loss: 0.2354 - val_accuracy: 0.9141\n",
            "Epoch 8/100\n",
            "391/391 [==============================] - 5s 13ms/step - loss: 0.2286 - accuracy: 0.9143 - val_loss: 0.2179 - val_accuracy: 0.9158\n",
            "Epoch 9/100\n",
            "391/391 [==============================] - 5s 13ms/step - loss: 0.2224 - accuracy: 0.9177 - val_loss: 0.2248 - val_accuracy: 0.9133\n",
            "Epoch 10/100\n",
            "391/391 [==============================] - 5s 13ms/step - loss: 0.2137 - accuracy: 0.9197 - val_loss: 0.2146 - val_accuracy: 0.9196\n",
            "Epoch 11/100\n",
            "391/391 [==============================] - 5s 13ms/step - loss: 0.2082 - accuracy: 0.9219 - val_loss: 0.2210 - val_accuracy: 0.9149\n",
            "Epoch 12/100\n",
            "391/391 [==============================] - 5s 13ms/step - loss: 0.2051 - accuracy: 0.9223 - val_loss: 0.2145 - val_accuracy: 0.9188\n",
            "Epoch 13/100\n",
            "391/391 [==============================] - 5s 13ms/step - loss: 0.1971 - accuracy: 0.9252 - val_loss: 0.2112 - val_accuracy: 0.9199\n",
            "Epoch 14/100\n",
            "391/391 [==============================] - 5s 13ms/step - loss: 0.1924 - accuracy: 0.9289 - val_loss: 0.2260 - val_accuracy: 0.9198\n",
            "Epoch 15/100\n",
            "391/391 [==============================] - 5s 13ms/step - loss: 0.1861 - accuracy: 0.9305 - val_loss: 0.2159 - val_accuracy: 0.9193\n",
            "Epoch 16/100\n",
            "391/391 [==============================] - 5s 13ms/step - loss: 0.1821 - accuracy: 0.9305 - val_loss: 0.2216 - val_accuracy: 0.9155\n",
            "Epoch 17/100\n",
            "391/391 [==============================] - 5s 13ms/step - loss: 0.1754 - accuracy: 0.9332 - val_loss: 0.2304 - val_accuracy: 0.9137\n",
            "Epoch 18/100\n",
            "391/391 [==============================] - 5s 13ms/step - loss: 0.1726 - accuracy: 0.9343 - val_loss: 0.2233 - val_accuracy: 0.9202\n",
            "Epoch 19/100\n",
            "391/391 [==============================] - 5s 13ms/step - loss: 0.1673 - accuracy: 0.9369 - val_loss: 0.2018 - val_accuracy: 0.9282\n",
            "Epoch 20/100\n",
            "391/391 [==============================] - 5s 13ms/step - loss: 0.1641 - accuracy: 0.9378 - val_loss: 0.2475 - val_accuracy: 0.9091\n",
            "Epoch 21/100\n",
            "391/391 [==============================] - 5s 13ms/step - loss: 0.1613 - accuracy: 0.9390 - val_loss: 0.2114 - val_accuracy: 0.9241\n",
            "Epoch 22/100\n",
            "391/391 [==============================] - 5s 13ms/step - loss: 0.1555 - accuracy: 0.9421 - val_loss: 0.2098 - val_accuracy: 0.9235\n",
            "Epoch 23/100\n",
            "391/391 [==============================] - 5s 13ms/step - loss: 0.1514 - accuracy: 0.9420 - val_loss: 0.2126 - val_accuracy: 0.9215\n",
            "Epoch 24/100\n",
            "391/391 [==============================] - 5s 13ms/step - loss: 0.1514 - accuracy: 0.9422 - val_loss: 0.2374 - val_accuracy: 0.9158\n",
            "Epoch 25/100\n",
            "391/391 [==============================] - 5s 13ms/step - loss: 0.1501 - accuracy: 0.9430 - val_loss: 0.2119 - val_accuracy: 0.9237\n",
            "Epoch 26/100\n",
            "391/391 [==============================] - 5s 13ms/step - loss: 0.1443 - accuracy: 0.9452 - val_loss: 0.2013 - val_accuracy: 0.9289\n",
            "Epoch 27/100\n",
            "391/391 [==============================] - 5s 13ms/step - loss: 0.1403 - accuracy: 0.9476 - val_loss: 0.2388 - val_accuracy: 0.9169\n",
            "Epoch 28/100\n",
            "391/391 [==============================] - 5s 13ms/step - loss: 0.1377 - accuracy: 0.9478 - val_loss: 0.2140 - val_accuracy: 0.9249\n",
            "Epoch 29/100\n",
            "391/391 [==============================] - 5s 13ms/step - loss: 0.1380 - accuracy: 0.9456 - val_loss: 0.2193 - val_accuracy: 0.9245\n"
          ]
        },
        {
          "output_type": "execute_result",
          "data": {
            "text/plain": [
              "<keras.callbacks.History at 0x7f5db0540710>"
            ]
          },
          "metadata": {},
          "execution_count": 47
        }
      ]
    },
    {
      "cell_type": "markdown",
      "source": [
        "Como la paciencia que se ha puesto es de 10, ha iterado 32 veces. La pérdida mínima se hace en la época 14 (en este caso, en la compilación actual, a veces en la 13, otras veces en la 15) por lo que podemos deducir que solo necesitamos 15 épocas mas o menos.\n",
        "\n",
        "Por ello, volvemos a compilar el modelo, pero usando 15 épocas."
      ],
      "metadata": {
        "id": "RUvwOuYWSpyF"
      }
    },
    {
      "cell_type": "code",
      "source": [
        "# Definimos la red\n",
        "modelo33 = Sequential()\n",
        "modelo33.add(Conv2D(64,(7,7), padding=\"same\", activation='relu', input_shape=(28,28,1)))\n",
        "modelo33.add(MaxPooling2D((2,2)))\n",
        "modelo33.add(Dropout(0.3))\n",
        "modelo33.add(BatchNormalization())\n",
        "modelo33.add(Conv2D(128,(3,3), padding=\"same\",activation='relu'))\n",
        "modelo33.add(MaxPooling2D((2,2)))\n",
        "modelo33.add(Dropout(0.3))\n",
        "modelo33.add(BatchNormalization())\n",
        "modelo33.add(Flatten())\n",
        "modelo33.add(Dense(128, activation='relu'))\n",
        "modelo33.add(Dropout(0.3))\n",
        "modelo33.add(BatchNormalization())\n",
        "modelo33.add(Dense(10, activation='softmax'))"
      ],
      "metadata": {
        "id": "1QgLHpYhU1vR"
      },
      "execution_count": 48,
      "outputs": []
    },
    {
      "cell_type": "code",
      "metadata": {
        "id": "P6JV9loM6Slh"
      },
      "source": [
        "# Compilamos la red\n",
        "modelo33.compile(optimizer='adam', \n",
        "                loss='sparse_categorical_crossentropy',\n",
        "                metrics=['accuracy'])\n"
      ],
      "execution_count": 49,
      "outputs": []
    },
    {
      "cell_type": "code",
      "source": [
        "# Entrenamos la red\n",
        "\n",
        "modelo33.fit(train_images, train_labels, batch_size=128, epochs=15)\n",
        "\n",
        "test_loss33, test_acc33 = modelo33.evaluate(test_images, test_labels)"
      ],
      "metadata": {
        "colab": {
          "base_uri": "https://localhost:8080/"
        },
        "id": "2vgbkIvoVDuP",
        "outputId": "8225ddb0-12d0-4fc8-dab1-e6ffbad87667"
      },
      "execution_count": 50,
      "outputs": [
        {
          "output_type": "stream",
          "name": "stdout",
          "text": [
            "Epoch 1/15\n",
            "469/469 [==============================] - 7s 12ms/step - loss: 0.4611 - accuracy: 0.8336\n",
            "Epoch 2/15\n",
            "469/469 [==============================] - 6s 12ms/step - loss: 0.3156 - accuracy: 0.8839\n",
            "Epoch 3/15\n",
            "469/469 [==============================] - 6s 12ms/step - loss: 0.2759 - accuracy: 0.8974\n",
            "Epoch 4/15\n",
            "469/469 [==============================] - 6s 12ms/step - loss: 0.2534 - accuracy: 0.9049\n",
            "Epoch 5/15\n",
            "469/469 [==============================] - 6s 12ms/step - loss: 0.2389 - accuracy: 0.9118\n",
            "Epoch 6/15\n",
            "469/469 [==============================] - 6s 12ms/step - loss: 0.2256 - accuracy: 0.9169\n",
            "Epoch 7/15\n",
            "469/469 [==============================] - 6s 12ms/step - loss: 0.2160 - accuracy: 0.9205\n",
            "Epoch 8/15\n",
            "469/469 [==============================] - 6s 12ms/step - loss: 0.2065 - accuracy: 0.9223\n",
            "Epoch 9/15\n",
            "469/469 [==============================] - 6s 12ms/step - loss: 0.1959 - accuracy: 0.9266\n",
            "Epoch 10/15\n",
            "469/469 [==============================] - 6s 12ms/step - loss: 0.1913 - accuracy: 0.9287\n",
            "Epoch 11/15\n",
            "469/469 [==============================] - 6s 12ms/step - loss: 0.1802 - accuracy: 0.9322\n",
            "Epoch 12/15\n",
            "469/469 [==============================] - 6s 12ms/step - loss: 0.1773 - accuracy: 0.9332\n",
            "Epoch 13/15\n",
            "469/469 [==============================] - 6s 12ms/step - loss: 0.1692 - accuracy: 0.9361\n",
            "Epoch 14/15\n",
            "469/469 [==============================] - 6s 12ms/step - loss: 0.1635 - accuracy: 0.9391\n",
            "Epoch 15/15\n",
            "469/469 [==============================] - 6s 12ms/step - loss: 0.1584 - accuracy: 0.9393\n",
            "313/313 [==============================] - 1s 3ms/step - loss: 0.2185 - accuracy: 0.9271\n"
          ]
        }
      ]
    },
    {
      "cell_type": "code",
      "source": [
        "# Evaluamos el modelo\n",
        "test_loss33, test_acc33 = modelo33.evaluate(test_images, test_labels)"
      ],
      "metadata": {
        "colab": {
          "base_uri": "https://localhost:8080/"
        },
        "id": "UvvM5dKIWbNQ",
        "outputId": "22da7e4a-2514-4650-de16-e92e8495b4d2"
      },
      "execution_count": 51,
      "outputs": [
        {
          "output_type": "stream",
          "name": "stdout",
          "text": [
            "313/313 [==============================] - 1s 3ms/step - loss: 0.2185 - accuracy: 0.9271\n"
          ]
        }
      ]
    },
    {
      "cell_type": "code",
      "source": [
        "print('La precisión del test 3.3 es:', test_acc33, ' y la pérdida es:', test_loss33)"
      ],
      "metadata": {
        "colab": {
          "base_uri": "https://localhost:8080/"
        },
        "id": "s0TnHZ8ETy5W",
        "outputId": "78a9d6f7-838b-4d57-f796-79168ee59edf"
      },
      "execution_count": 52,
      "outputs": [
        {
          "output_type": "stream",
          "name": "stdout",
          "text": [
            "La precisión del test 3.3 es: 0.9271000027656555  y la pérdida es: 0.21851415932178497\n"
          ]
        }
      ]
    },
    {
      "cell_type": "markdown",
      "source": [
        "# APARTADO 10: Callbacks."
      ],
      "metadata": {
        "id": "1vA2WCZQFmTq"
      }
    },
    {
      "cell_type": "markdown",
      "source": [
        "Un callback es un objeto de python que nos permite editar dentro de una red neuronal durante el entrenamiento de la misma. De esta manera, se puede ir comprobando el sobreentrenamiento del modelo y, de empezar a tener sobreentrenamiento, detener el entrenamiento. \n",
        "\n",
        "Esto es lo que se ha utilizado para el apartado anterior para detener las iteraciones y evitar el sobreentrenamiento."
      ],
      "metadata": {
        "id": "VpFxDsrGFwsB"
      }
    }
  ],
  "metadata": {
    "colab": {
      "collapsed_sections": [
        "YoSUIQe8GOWM",
        "i3QccIKtjAFW",
        "DF5ljjdYkye0",
        "kQUv-zESlyBp",
        "NanhP32Jhshg",
        "u7jp5fTl4OZD",
        "gpskvyiH5a9h",
        "YFY2oOWQ5e0q",
        "KH1Byfqg5n7j",
        "c9JZwO2aBgQt"
      ],
      "provenance": [],
      "authorship_tag": "ABX9TyOJFNR1mVsBVpLhhvGd0o9G",
      "include_colab_link": true
    },
    "kernelspec": {
      "display_name": "Python 3",
      "name": "python3"
    },
    "language_info": {
      "name": "python"
    },
    "accelerator": "GPU",
    "gpuClass": "standard"
  },
  "nbformat": 4,
  "nbformat_minor": 0
}